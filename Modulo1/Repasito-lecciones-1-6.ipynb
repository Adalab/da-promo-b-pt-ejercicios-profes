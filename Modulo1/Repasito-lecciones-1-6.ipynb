{
 "cells": [
  {
   "cell_type": "markdown",
   "metadata": {},
   "source": [
    "# <span style=\"color: orange\">Algunas temas para repasar de las ultimas lecciones:"
   ]
  },
  {
   "cell_type": "markdown",
   "metadata": {},
   "source": [
    "# Crear una cadena de texto que se incorpora variables por dentro\n",
    "\n",
    "comanda Fstring: \n",
    "\n",
    "```python\n",
    "f\"texto{variable}texto\""
   ]
  },
  {
   "cell_type": "code",
   "execution_count": 84,
   "metadata": {},
   "outputs": [
    {
     "data": {
      "text/plain": [
       "'mi nombre es Alicia y tengo 34 años'"
      ]
     },
     "execution_count": 84,
     "metadata": {},
     "output_type": "execute_result"
    }
   ],
   "source": [
    "\n",
    "# creamos una cadena de texto que incorpora el nombre y la edad de personas como variables.\n",
    "# usamos la comanda f\"\"\n",
    "\n",
    "nombre =\"Alicia\"\n",
    "edad = 34\n",
    "\n",
    "f\"mi nombre es {nombre} y tengo {edad} años\""
   ]
  },
  {
   "cell_type": "markdown",
   "metadata": {},
   "source": [
    "## <span style =\"color: orange\"> range(): \n",
    "### una forma conveniente de crear lista de numero en secuencia!\n",
    "\n",
    "```python\n",
    "range(start, stop, step)\n",
    "\n",
    "```\n",
    "\n",
    "Importante:\n",
    "\n",
    "- en un range como range(a,b), a esta incluido y b no esta incluido!\n",
    "\n",
    "- un range como range(b), por defecto empieza con 0\n",
    "\n",
    "- para ver la lista que crea un range en la pantalla, hay que convertirlo a una lista usar comanda list()\n",
    "\n",
    "- se usa mucha en bucle for\n",
    "\n",
    " <span style =\"color: blue\">  Ejemplo:"
   ]
  },
  {
   "cell_type": "markdown",
   "metadata": {},
   "source": []
  },
  {
   "cell_type": "code",
   "execution_count": 103,
   "metadata": {},
   "outputs": [
    {
     "data": {
      "text/plain": [
       "range(0, 5)"
      ]
     },
     "execution_count": 103,
     "metadata": {},
     "output_type": "execute_result"
    }
   ],
   "source": [
    "# creamos una lista de numeros 1-10 con lista normal y con range\n",
    "# comparamos las listas\n",
    "lista1 =[1,2,3,4,5,6]\n",
    "\n",
    "range(1,7)\n",
    "\n",
    "list(range(1,7))\n",
    "\n",
    "#probamos un range con un solo parametro\n",
    "\n",
    "range(5)\n",
    "\n",
    "#probamos un range con start y stop para ver el limite inclusivo y exclusivo\n",
    "list(range(4,10))\n"
   ]
  },
  {
   "cell_type": "markdown",
   "metadata": {},
   "source": [
    "## <span style =\"color: orange\"> Parametros por defecto \n",
    "\n",
    "### son parametros (en funcciones por ejemplo) que estan predeterminados, asi que no hace falta poner argumentos por ellos.\n",
    "\n",
    "```python\n",
    "def mi_funccion(parametro1, parametro2= x):\n",
    "    body\n",
    "\n",
    "```\n",
    "\n",
    " <span style =\"color: blue\">  Ejemplo:"
   ]
  },
  {
   "cell_type": "code",
   "execution_count": 92,
   "metadata": {},
   "outputs": [
    {
     "data": {
      "text/plain": [
       "'mi nombre es ana y vivo en Madrid '"
      ]
     },
     "execution_count": 92,
     "metadata": {},
     "output_type": "execute_result"
    }
   ],
   "source": [
    "\n",
    "# creamos una funccion que crea un texto con nombre de unas personas, que su ciudad es Madrid\n",
    "\n",
    "def mi_funccion(nombre, ciudad= \"Madrid\"):\n",
    "    nombre =input(\"cual es tu nombre\")\n",
    "    return f\"mi nombre es {nombre} y vivo en {ciudad} \"\n",
    "\n",
    "# el parametro ciudad, esta predetermindao\n",
    "\n",
    "mi_funccion(\"Ana\")\n",
    "\n"
   ]
  },
  {
   "cell_type": "markdown",
   "metadata": {},
   "source": [
    "## <span style =\"color: orange\"> Recordatorio: Una funccion sin return/ con return\n",
    "\n",
    "### Una funccion sin return devuelve None\n",
    "### Una funccion siempre devuelve lo que esta puesto despues de return\n",
    "\n",
    "```python\n",
    "def mi_funccion():\n",
    "    operacion\n",
    "    return x\n",
    "\n",
    "```"
   ]
  },
  {
   "cell_type": "markdown",
   "metadata": {},
   "source": [
    "## <span style =\"color: orange\"> Concepto nuevo: try...except\n",
    "\n",
    "### una comanda que se usa para controlar el caso de error: poner un mensaje especifico en caso de error\n",
    "\n",
    "```python\n",
    "try:\n",
    "\n",
    "       body \n",
    "\n",
    "except Exception\n",
    "\n",
    "\n",
    "```\n",
    "\n",
    " <span style =\"color: blue\">  Ejemplo:"
   ]
  },
  {
   "cell_type": "code",
   "execution_count": null,
   "metadata": {},
   "outputs": [],
   "source": [
    "## <span style =\"color: orange\"> datetime\n",
    "\n",
    "### una comanda que se usa para controlar el caso de error: poner un mensaje especifico en caso de error\n",
    "\n",
    "```python\n",
    "try:\n",
    "\n",
    "       body \n",
    "\n",
    "except Exception\n",
    "\n",
    "\n",
    "```\n",
    "\n",
    " <span style =\"color: blue\">  Ejemplo:"
   ]
  },
  {
   "cell_type": "code",
   "execution_count": 102,
   "metadata": {},
   "outputs": [
    {
     "data": {
      "text/plain": [
       "'porfavor inserta un numero!'"
      ]
     },
     "execution_count": 102,
     "metadata": {},
     "output_type": "execute_result"
    }
   ],
   "source": [
    "# un ejemplo\n",
    "    \n",
    "    def edad():\n",
    "        try:\n",
    "          edad = int(input(\"cuantos años tienes?\"))  \n",
    "          if edad > 40:\n",
    "              return \"tienes mas de 40 años!\"\n",
    "          else:\n",
    "              return \"tienes menos de 40 años!\"\n",
    "        \n",
    "        except Exception:\n",
    "              return \"porfavor inserta un numero!\"\n",
    "\n",
    "edad()"
   ]
  },
  {
   "cell_type": "code",
   "execution_count": 80,
   "metadata": {},
   "outputs": [
    {
     "data": {
      "text/plain": [
       "datetime.datetime"
      ]
     },
     "execution_count": 80,
     "metadata": {},
     "output_type": "execute_result"
    }
   ],
   "source": [
    "import datetime\n",
    "\n",
    "datetime.datetime.now()  # devuelve todas las infos de momento presente\n",
    "datetime.datetime.now().year # devuelve solo el año\n",
    "\n",
    "current_date = f\"{datetime.datetime.now().year}-{datetime.datetime.now().month}-{datetime.datetime.now().day}\"\n",
    "current_date\n",
    "type(current_date)\n",
    "date = datetime.datetime.strptime(current_date, \"%Y-%m-%d\")\n",
    "type(date)\n",
    "\n"
   ]
  }
 ],
 "metadata": {
  "kernelspec": {
   "display_name": "Python 3",
   "language": "python",
   "name": "python3"
  },
  "language_info": {
   "codemirror_mode": {
    "name": "ipython",
    "version": 3
   },
   "file_extension": ".py",
   "mimetype": "text/x-python",
   "name": "python",
   "nbconvert_exporter": "python",
   "pygments_lexer": "ipython3",
   "version": "3.12.2"
  }
 },
 "nbformat": 4,
 "nbformat_minor": 2
}
