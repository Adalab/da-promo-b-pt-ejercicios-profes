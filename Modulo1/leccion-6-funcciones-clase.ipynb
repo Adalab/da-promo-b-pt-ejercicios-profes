{
 "cells": [
  {
   "cell_type": "markdown",
   "metadata": {},
   "source": [
    "# Funciones #"
   ]
  },
  {
   "cell_type": "markdown",
   "metadata": {},
   "source": [
    "### <span style=\"color:green\">Definicion ###\n",
    "\n",
    "un bloque de código que se puede llamar para realizar una tarea específica.\n",
    "\n",
    "se utilizan para organizar el código en piezas más pequeñas y manejables, lo que puede hacer que el código sea más fácil de leer, entender y mantener.\n",
    "\n",
    "definimos una fuccion y luego lo ***llamamos**\n",
    "\n",
    "Una función siempre tiene paréntesis. El resultado de una función puede ser una variable nueva, \n",
    "\n"
   ]
  },
  {
   "cell_type": "markdown",
   "metadata": {},
   "source": [
    "\n",
    "\n",
    "# Motivación de las funciones\n",
    "\n",
    "- `Reutilización`: supongamos que escribimos un código que es muy útil para nuestro objetivo, y según avanzamos en nuestro trabajo vemos que lo vamos a necesitar en varias ocasiones. En este caso podemos copiar y pegar una y otra vez el código, pero esto puede resultar algo tedioso si lo tenemos que hacer muchas veces.\n",
    "\n",
    "\n",
    "- `Modularidad`: las funciones permiten dividir procesos en pasos más pequeños.\n",
    "\n",
    "\n",
    "**Las funciones en Python tienen los siguientes componentes principales:**\n",
    "\n",
    "- Estamento `def`: es obligatorio.\n",
    "\n",
    "- El `nombre de la función`\n",
    "\n",
    "- Los `parámetros`: son los parámetros que recibiran las funciones,\n",
    "siempre habrá paréntesis pero estos pueden ir vacíos. \n",
    "\n",
    "- Estamento `return`: indica que \"se ha terminado\" de procesar el código de la función. Es opcional.\n",
    "\n",
    "\n",
    "![funcion](https://github.com/Adalab/data_imagenes/blob/main/Modulo-1/python/funciones.png?raw=true)\n"
   ]
  },
  {
   "cell_type": "markdown",
   "metadata": {},
   "source": [
    "# Algunos conceptos utiles #"
   ]
  },
  {
   "cell_type": "markdown",
   "metadata": {},
   "source": [
    "\n",
    "## variables locales\n",
    "\n",
    "estan solo definidos dentro de una funccion"
   ]
  },
  {
   "cell_type": "code",
   "execution_count": 50,
   "metadata": {},
   "outputs": [],
   "source": [
    "# creamos nuestra primera funccion\n",
    "\n",
    "def mi_primera_funccion():\n",
    "  variable_local = \"bienvenida\"\n",
    "  return variable_local\n"
   ]
  },
  {
   "cell_type": "code",
   "execution_count": 51,
   "metadata": {},
   "outputs": [
    {
     "name": "stdout",
     "output_type": "stream",
     "text": [
      "bienvenida\n"
     ]
    }
   ],
   "source": [
    "# llamar el variable local\n",
    "## print(variable_local)\n",
    "\n",
    "# llamos al funccion\n",
    "print(mi_primera_funccion())\n"
   ]
  },
  {
   "cell_type": "markdown",
   "metadata": {},
   "source": [
    "## variables globales\n",
    "\n",
    "estan definidos fuera de una funcion y disponible en toda el programma"
   ]
  },
  {
   "cell_type": "code",
   "execution_count": 52,
   "metadata": {},
   "outputs": [
    {
     "name": "stdout",
     "output_type": "stream",
     "text": [
      "test\n"
     ]
    }
   ],
   "source": [
    "# definimos un variable fuera de funccion como habitual\n",
    "variable_local =\"test\"\n",
    "print(variable_local)\n",
    "\n",
    "# volvemos crear una funccion que usa este variable, que solo hace un print\n",
    "\n"
   ]
  },
  {
   "cell_type": "markdown",
   "metadata": {},
   "source": [
    "## Argumentos vs parametros\n",
    "\n",
    "Los `parámetros` son las variables que se definen en la definición de la función, y que reciben los valores que se pasan como argumentos al llamar a la función.\n",
    "\n",
    "Los `argumentos` son los valores que se pasan a una función cuando se llama a la misma. \n",
    "\n",
    "La principal diferencia entre los `parámetros` y los `argumentos` es que los parámetros son una parte de la definición de la función, mientras que los argumentos son los valores que se pasan a la función cuando se llama a la misma.\n",
    "\n",
    "Ejemplo\n",
    "\n",
    "```python\n",
    "def multi(num1,num2)\n",
    "   return num1*num2\n",
    "resultado =multi(2,3)\n"
   ]
  },
  {
   "cell_type": "markdown",
   "metadata": {},
   "source": [
    "## Funcciones sin parametros\n",
    "\n",
    "no reciben nungun parametro"
   ]
  },
  {
   "cell_type": "code",
   "execution_count": 56,
   "metadata": {},
   "outputs": [
    {
     "name": "stdout",
     "output_type": "stream",
     "text": [
      "None\n",
      "3\n"
     ]
    }
   ],
   "source": [
    "# creamos una funccion sin parametro que solo define un variable y lo da print, SIN RETURN\n",
    "\n",
    "def funccion1():\n",
    "    variable = 3\n",
    "\n",
    "#luego lo llamamos\n",
    "\n",
    "print(funccion1())\n",
    "funccion1()\n",
    "\n",
    "def funccion2():\n",
    "    variable = 3\n",
    "    return variable\n",
    "\n",
    "print(funccion2())\n",
    "\n",
    "\n"
   ]
  },
  {
   "cell_type": "markdown",
   "metadata": {},
   "source": [
    "### print y return son dos palabras claves diferentes en python:\n",
    "\n",
    ">*print* mostrar informacion en pantalla\n",
    "\n",
    ">*return devolver el valor desde una funccion"
   ]
  },
  {
   "cell_type": "code",
   "execution_count": 28,
   "metadata": {},
   "outputs": [],
   "source": [
    "# volvemos a escribir una funccion con parametros, CON RETURN \n",
    "\n",
    "# y volvemos a usar print para mostrarla\n"
   ]
  },
  {
   "cell_type": "code",
   "execution_count": null,
   "metadata": {},
   "outputs": [],
   "source": [
    "# repitimos esta funccion SIN RETURN"
   ]
  },
  {
   "cell_type": "code",
   "execution_count": 58,
   "metadata": {},
   "outputs": [
    {
     "name": "stdout",
     "output_type": "stream",
     "text": [
      "[2, 4, 6, 8]\n"
     ]
    }
   ],
   "source": [
    "# para practicar mas, hacemos una funccion que devuelve un sublist de numero pares\n",
    "\n",
    "lista = [1,2,3,4,5,6,7,8,9]\n",
    "lista_pares =[]\n",
    "\n",
    "def pares():\n",
    "    for num in lista:\n",
    "        if num % 2 == 0:\n",
    "            lista_pares.append(num)\n",
    "        else:\n",
    "            pass\n",
    "    return lista_pares\n",
    "\n",
    "print(pares())\n",
    "    "
   ]
  },
  {
   "cell_type": "markdown",
   "metadata": {},
   "source": [
    "### importante: una funccion se parara cuando llega al Return!"
   ]
  },
  {
   "cell_type": "code",
   "execution_count": 62,
   "metadata": {},
   "outputs": [
    {
     "name": "stdout",
     "output_type": "stream",
     "text": [
      "[2, 4, 6, 8, 2, 4, 6, 8, 2, 4, 6, 8, 2, 2, 4, 6, 8, 2, 4, 6, 8]\n",
      "[2]\n"
     ]
    }
   ],
   "source": [
    "# probamos la misma funccion de arriba, pero con return dentro de for\n",
    "\n",
    "def pares():\n",
    "    for num in lista:\n",
    "        if num % 2 == 0:\n",
    "            lista_pares.append(num)\n",
    "        else:\n",
    "            pass\n",
    "    return lista_pares\n",
    "\n",
    "print(pares())\n",
    "\n",
    "lista_pares2 = []\n",
    "def pares2():\n",
    "    for num in lista:\n",
    "        if num % 2 == 0:\n",
    "            lista_pares2.append(num)\n",
    "            return lista_pares2\n",
    "        else:\n",
    "            pass\n",
    "    \n",
    "\n",
    "print(pares2())"
   ]
  },
  {
   "cell_type": "markdown",
   "metadata": {},
   "source": [
    "## Funciones con parametros\n",
    "\n",
    "los parametros se utilizan que se utilizan para recibir valores externos de la funccion"
   ]
  },
  {
   "cell_type": "code",
   "execution_count": 67,
   "metadata": {},
   "outputs": [
    {
     "name": "stdout",
     "output_type": "stream",
     "text": [
      "10\n"
     ]
    },
    {
     "data": {
      "text/plain": [
       "10"
      ]
     },
     "execution_count": 67,
     "metadata": {},
     "output_type": "execute_result"
    }
   ],
   "source": [
    "# creamos una funccion que toma 2 parametros numericos, los suma y dale print\n",
    "\n",
    "def suma(num1,num2):\n",
    "    suma_numeros = num1 + num2\n",
    "    return(suma_numeros)\n",
    "\n",
    "print(suma(6,4))\n",
    "suma(6,4)\n"
   ]
  },
  {
   "cell_type": "code",
   "execution_count": 94,
   "metadata": {},
   "outputs": [
    {
     "ename": "IndentationError",
     "evalue": "unindent does not match any outer indentation level (<string>, line 9)",
     "output_type": "error",
     "traceback": [
      "\u001b[0;36m  File \u001b[0;32m<string>:9\u001b[0;36m\u001b[0m\n\u001b[0;31m    else:\u001b[0m\n\u001b[0m         ^\u001b[0m\n\u001b[0;31mIndentationError\u001b[0m\u001b[0;31m:\u001b[0m unindent does not match any outer indentation level\n"
     ]
    }
   ],
   "source": [
    "# usamos una fuccion que hace una lista de numero pares de una lista de numeros\n",
    "\n",
    "\n",
    "def pares3(lista_completa):\n",
    "    lista_pares =[]  \n",
    "       for num in lista_completa:\n",
    "          if num  % 2 == 0:\n",
    "             lista_pares.append(num)\n",
    "        else:\n",
    "             pass\n",
    "return lista_pares\n",
    "\n",
    "mi_lista =[30,41,51]\n",
    "pares3(mi_lista)\n"
   ]
  },
  {
   "cell_type": "code",
   "execution_count": 97,
   "metadata": {},
   "outputs": [
    {
     "data": {
      "text/plain": [
       "[4, 6]"
      ]
     },
     "execution_count": 97,
     "metadata": {},
     "output_type": "execute_result"
    }
   ],
   "source": [
    "def pares4(lista_comp):\n",
    "    lista_vacia = []\n",
    "    for  num in lista_comp:\n",
    "        if num % 2 == 0:\n",
    "           lista_vacia.append(num)\n",
    "        else:\n",
    "           pass\n",
    "    return lista_vacia\n",
    "mi_lista = [1,4,5,6]\n",
    "pares4(mi_lista)"
   ]
  },
  {
   "cell_type": "code",
   "execution_count": 98,
   "metadata": {},
   "outputs": [
    {
     "data": {
      "text/plain": [
       "[60, 90]"
      ]
     },
     "execution_count": 98,
     "metadata": {},
     "output_type": "execute_result"
    }
   ],
   "source": [
    "edades = [21,45,60,90,1]\n",
    "\n",
    "pares4(edades)"
   ]
  },
  {
   "cell_type": "markdown",
   "metadata": {},
   "source": [
    "## Lambdas (Funcciones Lambda)\n",
    "\n",
    "una forma de definir funcciones pequeños y anonimos para usar en cualquier lugar que hace falta\n",
    "\n",
    "```python\n",
    "lambda argumentos: expresión\n",
    "```\n",
    "\n",
    "argumentos: argumentos que se pasan a lambda separados por coma\n",
    "\n",
    "expresion: la operacion que se realiza en lambda\n",
    "\n",
    "\n"
   ]
  },
  {
   "cell_type": "code",
   "execution_count": 33,
   "metadata": {},
   "outputs": [
    {
     "name": "stdout",
     "output_type": "stream",
     "text": [
      "9\n"
     ]
    }
   ],
   "source": [
    "# definimos una funccion como antes,con parametro que se eleva un numero a potencia 2\n",
    "\n",
    "def cuadro(numero):\n",
    "    return numero ** 2\n",
    "print(cuadro(3))"
   ]
  },
  {
   "cell_type": "code",
   "execution_count": 34,
   "metadata": {},
   "outputs": [],
   "source": [
    "# como lo hariamos con una lambda\n",
    "\n",
    "\n",
    "#probamos uno con 2 parametros"
   ]
  },
  {
   "cell_type": "code",
   "execution_count": 35,
   "metadata": {},
   "outputs": [],
   "source": [
    "# vamos a probar algo mas complicado\n",
    "# queremos una funccion que reciba una lista de numero y nos devuelva a una lista con los numero impares\n",
    "# una vez normal y una vez con lambda\n",
    "\n",
    "# una libreria llamada random random.sample(population,k)"
   ]
  },
  {
   "cell_type": "code",
   "execution_count": 36,
   "metadata": {},
   "outputs": [],
   "source": [
    "# jugar con random\n",
    "import random\n",
    "\n",
    "\n",
    "\n"
   ]
  },
  {
   "cell_type": "code",
   "execution_count": 37,
   "metadata": {},
   "outputs": [
    {
     "name": "stdout",
     "output_type": "stream",
     "text": [
      "<class 'list'>\n",
      "[3, 41, 47, 7, 15, 33, 1, 17, 19, 5, 9, 49]\n"
     ]
    }
   ],
   "source": [
    "lista = random.sample(range(1,50),20)\n",
    "print(list)\n",
    "\n",
    "def impares(lista1):\n",
    "    impares =[]\n",
    "    for num in lista1:\n",
    "        if num % 2 != 0:\n",
    "            impares.append(num)\n",
    "    return impares\n",
    "print(impares(lista))"
   ]
  },
  {
   "cell_type": "code",
   "execution_count": 38,
   "metadata": {},
   "outputs": [
    {
     "name": "stdout",
     "output_type": "stream",
     "text": [
      "[3, 41, 47, 7, 15, 33, 1, 17, 19, 5, 9, 49]\n"
     ]
    }
   ],
   "source": [
    "# ahora hacemos lo mismo usando lambda\n",
    "\n",
    "dunccion_impares = lambda lista1: [num for num in lista1 if num % 2 != 0]\n",
    "print(dunccion_impares(lista))"
   ]
  },
  {
   "cell_type": "markdown",
   "metadata": {},
   "source": [
    "### Parte 2- argumentos"
   ]
  },
  {
   "cell_type": "markdown",
   "metadata": {},
   "source": [
    "## parametros por defecto\n",
    "\n",
    "valores que se asignan a los argumentos de una funcion en caso que no se les damos un valor espicifico\n",
    "\n",
    "```python\n",
    "def mi_funccion(parametro1, parametro2=valor_pordefecto):\n",
    "    #cuerpo"
   ]
  },
  {
   "cell_type": "code",
   "execution_count": 39,
   "metadata": {},
   "outputs": [],
   "source": [
    "# definimos una funcion que recibe 2 parametros que una es por defecto\n",
    "\n"
   ]
  },
  {
   "cell_type": "markdown",
   "metadata": {},
   "source": [
    "## Recursividad\n",
    "\n",
    "una funccion recusriva es una funccion que se llama a si misma durante su ejecuccion"
   ]
  },
  {
   "cell_type": "code",
   "execution_count": 40,
   "metadata": {},
   "outputs": [
    {
     "name": "stdout",
     "output_type": "stream",
     "text": [
      "10\n",
      "9\n",
      "8\n",
      "7\n",
      "6\n",
      "5\n",
      "4\n",
      "3\n",
      "2\n",
      "1\n"
     ]
    }
   ],
   "source": [
    "# un ejemplo clasico de una funccion recursiva \n",
    "\n",
    "def contar(inicio):\n",
    "    print(inicio)\n",
    "    next = inicio - 1\n",
    "    if next >0:\n",
    "        contar(next)\n",
    "\n",
    "contar(10)"
   ]
  },
  {
   "cell_type": "markdown",
   "metadata": {},
   "source": [
    "## args y kwargs\n",
    "\n",
    " convenciones de nomenclatura para permitir mas flexibilidad\n",
    "\n",
    "- ` args ` \n",
    "\n",
    "- `kwargs `"
   ]
  },
  {
   "cell_type": "code",
   "execution_count": 41,
   "metadata": {},
   "outputs": [],
   "source": [
    "# vamos a usar un ejemplo de arg\n",
    "\n",
    "def media(*args):\n",
    "    return sum(args)/len(args)\n",
    "\n"
   ]
  },
  {
   "cell_type": "code",
   "execution_count": 42,
   "metadata": {},
   "outputs": [],
   "source": [
    "# y probamos un kwarg\n"
   ]
  }
 ],
 "metadata": {
  "kernelspec": {
   "display_name": "Python 3",
   "language": "python",
   "name": "python3"
  },
  "language_info": {
   "codemirror_mode": {
    "name": "ipython",
    "version": 3
   },
   "file_extension": ".py",
   "mimetype": "text/x-python",
   "name": "python",
   "nbconvert_exporter": "python",
   "pygments_lexer": "ipython3",
   "version": "3.12.2"
  }
 },
 "nbformat": 4,
 "nbformat_minor": 2
}
