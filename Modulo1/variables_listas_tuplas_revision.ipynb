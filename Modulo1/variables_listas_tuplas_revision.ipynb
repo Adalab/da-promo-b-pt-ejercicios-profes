{
 "cells": [
  {
   "cell_type": "markdown",
   "metadata": {},
   "source": [
    "# Una revision compacta de lo que hemos aprendido #\n",
    "\n",
    "> ## <span style=\"color:blue\">Elementos ##"
   ]
  },
  {
   "cell_type": "markdown",
   "metadata": {},
   "source": [
    "## <span style=\"color:blue\">1. Variables ##"
   ]
  },
  {
   "cell_type": "markdown",
   "metadata": {},
   "source": [
    "### <span style=\"color:green\">Definicion ###\n",
    "\n",
    "un nombre que se utiliza para hacer referencia a un valor almacenado en la memoria del programa. \n",
    "\n",
    "***tipo***: pueden contener cualquier tipo de datos: números (integer, float), cadenas de texto, booleanos, listas, , etc."
   ]
  },
  {
   "cell_type": "code",
   "execution_count": 25,
   "metadata": {},
   "outputs": [],
   "source": [
    "# definimos unos variables de cada tipo\n",
    "nombre = \"maria\"\n",
    "edad = 35\n",
    "graduada = True\n",
    "peso = 65.3"
   ]
  },
  {
   "cell_type": "markdown",
   "metadata": {},
   "source": [
    "### <span style=\"color:green\">Operaciones ###\n",
    "generales:\n",
    " - print\n",
    " - int()\n",
    " - float()\n",
    " - bool()\n",
    " - str()\n",
    " - type()\n",
    " - isinstance()"
   ]
  },
  {
   "cell_type": "code",
   "execution_count": 26,
   "metadata": {},
   "outputs": [
    {
     "name": "stdout",
     "output_type": "stream",
     "text": [
      "maria tiene 35 años y pesa 65.3 kilogramos\n",
      "cuaels el tipo de variables edad? <class 'int'>\n"
     ]
    }
   ],
   "source": [
    "# probamos algunos de operaciones usando nuestros variables como cambiar el tipo, print y type\n",
    "edad_string = str(edad)\n",
    "print(nombre,\"tiene\",edad,\"años y pesa\",peso,\"kilogramos\")\n",
    "print(\"cuaels el tipo de variables edad?\",type(edad))"
   ]
  },
  {
   "cell_type": "markdown",
   "metadata": {},
   "source": [
    "algebraices:\n",
    " - suma +\n",
    " - resta -\n",
    " - dividir /\n",
    " - multiplicar *\n",
    " - elevacion a potencia **\n",
    " - division entera //\n",
    " - devision residou %\n",
    " - ronda round()"
   ]
  },
  {
   "cell_type": "code",
   "execution_count": 27,
   "metadata": {},
   "outputs": [
    {
     "name": "stdout",
     "output_type": "stream",
     "text": [
      "el resultado de devision entera 23 a 3 es 7 y el residou es 2\n",
      "la redonda de peso de maria es: 65\n"
     ]
    }
   ],
   "source": [
    "# probamos algunos de operaciones algebraicas\n",
    "\n",
    "print(\"el resultado de devision entera 23 a 3 es\",23//3,\"y el residou es\",23%3)\n",
    "print(\"la redonda de peso de maria es:\",round(peso))"
   ]
  },
  {
   "cell_type": "markdown",
   "metadata": {},
   "source": [
    "binarias:\n",
    "- == is\n",
    "- != is not\n",
    "- > >=\n",
    "- < <=\n",
    "- and or"
   ]
  },
  {
   "cell_type": "code",
   "execution_count": 28,
   "metadata": {},
   "outputs": [
    {
     "name": "stdout",
     "output_type": "stream",
     "text": [
      "tiene maria mas que 40 años? False\n",
      " es maria graduada y tiene menos de 40 años? True\n"
     ]
    }
   ],
   "source": [
    "# probamos algunos operaciones binarias:\n",
    "\n",
    "print(\"tiene maria mas que 40 años?\",edad > 40)\n",
    "print(\" es maria graduada y tiene menos de 40 años?\",graduada is True or edad <40)"
   ]
  },
  {
   "cell_type": "markdown",
   "metadata": {},
   "source": [
    "### <span style=\"color:green\">Methodos ###"
   ]
  },
  {
   "cell_type": "markdown",
   "metadata": {},
   "source": [
    "- input()\n",
    "- upper()\n",
    "- lower()\n",
    "- replace()\n",
    "- join()\n",
    "- find()"
   ]
  },
  {
   "cell_type": "code",
   "execution_count": 29,
   "metadata": {},
   "outputs": [
    {
     "name": "stdout",
     "output_type": "stream",
     "text": [
      "aqui tu nombre en mayusculos: SARA\n",
      "aqui tu nombre si empezaria con z  Bienvenida Sara!\n",
      "tu nombre esta posiciona aqui en el mensaje: -1\n"
     ]
    }
   ],
   "source": [
    "# prbamos algunos methodos usando los mismos variables, definimos otro variable usando input\n",
    "nombre2 = input()\n",
    "mensaje_bienvenida =\" Bienvenida Maria!\"\n",
    "print(\"aqui tu nombre en mayusculos:\", nombre2.upper())\n",
    "print(\"aqui tu nombre si empezaria con z\",mensaje_bienvenida.replace(\"Maria\",nombre2))\n",
    "\n",
    "print(\"tu nombre esta posiciona aqui en el mensaje:\",mensaje_bienvenida.find(nombre2))"
   ]
  },
  {
   "cell_type": "markdown",
   "metadata": {},
   "source": [
    "## <span style=\"color:blue\"> 2. Listas [] ##"
   ]
  },
  {
   "cell_type": "markdown",
   "metadata": {},
   "source": [
    "### <span style=\"color:green\">Definicion ###\n",
    "una lista es una estructura de datos que se utiliza para almacenar una colección ordenada de elementos.\n",
    "se defina con ***corchetes  []**\n",
    "\n",
    "#### caracteristicas: ####\n",
    "  - Mutable\n",
    "  - Ordenadas\n",
    "  - Flexibles\n",
    "  - Indexadas\n",
    "  - Pueden contener duplicados"
   ]
  },
  {
   "cell_type": "markdown",
   "metadata": {},
   "source": [
    "### <span style=\"color:green\">Propiedades ###\n",
    "- min()\n",
    "- max()\n",
    "- len()\n",
    "- in not in\n",
    "- indices: positivos, negativos"
   ]
  },
  {
   "cell_type": "code",
   "execution_count": 30,
   "metadata": {},
   "outputs": [
    {
     "name": "stdout",
     "output_type": "stream",
     "text": [
      "No esta veronica en la lista? False\n",
      "quien esta el segunda en la lista? maria\n"
     ]
    }
   ],
   "source": [
    "# definimos una lista con nombres de mujeres y probamos algunos propiedades\n",
    "\n",
    "lista_mujeres = [\"laura\",\"maria\",\"alejandra\",\"veronica\"]\n",
    "print(\"No esta veronica en la lista?\",\"veronica\" not  in lista_mujeres)\n",
    "print(\"quien esta el segunda en la lista?\",lista_mujeres[1])"
   ]
  },
  {
   "cell_type": "markdown",
   "metadata": {},
   "source": [
    "### <span style=\"color:green\">Methodos ###\n",
    "- append()\n",
    "- insert()\n",
    "- extend()\n",
    "- remove()\n",
    "- pop()\n",
    "- index()\n",
    "- sort()\n",
    "- copy()\n",
    "- clear()"
   ]
  },
  {
   "cell_type": "markdown",
   "metadata": {},
   "source": [
    "nota: Los methodos, manipulan y cambien la lista.\n",
    "nota: a veces el resultado de un emthodo sale None, solo significa que el methodo esta realizo!"
   ]
  },
  {
   "cell_type": "code",
   "execution_count": 69,
   "metadata": {},
   "outputs": [
    {
     "name": "stdout",
     "output_type": "stream",
     "text": [
      "[15, 23, 65, 7, 34, 64, 13]\n",
      "[15, 23, 65, 7, 34, 64, 13]\n"
     ]
    }
   ],
   "source": [
    "# probamso uno methodos con una nueva lista- copiar una lista\n",
    "alturas = [15,23,65,7,34,64,13]\n",
    "alturas_copy =alturas.copy()\n",
    "print(alturas)\n",
    "print(alturas_copy)"
   ]
  },
  {
   "cell_type": "code",
   "execution_count": 73,
   "metadata": {},
   "outputs": [
    {
     "name": "stdout",
     "output_type": "stream",
     "text": [
      "[7, 13, 15, 23, 34, 64, 65]\n",
      "[7, 13, 15, 23, 34, 64, 65]\n"
     ]
    }
   ],
   "source": [
    "#probamos el impacto de unos methodos\n",
    "alturas_nuevas = [3 ,40]\n",
    "print(alturas)\n",
    "alturas.sort()\n",
    "print(alturas)\n",
    "\n",
    "\n",
    "\n"
   ]
  },
  {
   "cell_type": "markdown",
   "metadata": {},
   "source": [
    "## <span style=\"color:blue\">3. Tuplas () ##"
   ]
  },
  {
   "cell_type": "markdown",
   "metadata": {},
   "source": [
    "### <span style=\"color:green\">Definicion ###\n",
    "Una tupla en Python es una estructura de datos similar a una lista, pero con la diferencia clave de que es inmutable, lo que significa que una vez creada, no se pueden cambiar sus elementos. Se definen con ***paranthesis ()***\n",
    "\n",
    "#### caracteristicas: ####\n",
    "  - Inmutable\n",
    "  - Ordenadas\n",
    "  - Flexibles\n",
    "  - Indexadas\n",
    "  - Pueden contener duplicados"
   ]
  },
  {
   "cell_type": "markdown",
   "metadata": {},
   "source": [
    "### <span style=\"color:green\">Propiedades ###\n",
    "- len()\n",
    "- min()\n",
    "- max()\n",
    "- indices"
   ]
  },
  {
   "cell_type": "code",
   "execution_count": 76,
   "metadata": {},
   "outputs": [
    {
     "name": "stdout",
     "output_type": "stream",
     "text": [
      "lunes\n"
     ]
    }
   ],
   "source": [
    "# probamos algun propiedad de una tupla despues de definir una\n",
    "dias = (\"lunes\",\"martes\",\"miercoles\")\n",
    "print(dias[0])"
   ]
  },
  {
   "cell_type": "markdown",
   "metadata": {},
   "source": [
    "### <span style=\"color:green\"> Methodos ###\n",
    "- index()\n",
    "- count()\n",
    "- convertirse a lista: list()\n",
    "- vice versa: tuple()"
   ]
  },
  {
   "cell_type": "code",
   "execution_count": 80,
   "metadata": {},
   "outputs": [
    {
     "name": "stdout",
     "output_type": "stream",
     "text": [
      "['lunes', 'martes', 'miercoles']\n",
      "None\n",
      "('lunes', 'martes', 'miercoles', 'jueves')\n"
     ]
    }
   ],
   "source": [
    "# probamos algunos methodos de tuplas por ejemplo añadir otro dia\n",
    "dias_lista = list(dias)\n",
    "print(dias_lista)\n",
    "print(dias_lista.insert(len(dias_lista),\"jueves\"))\n",
    "dias_nuevas = tuple(dias_lista)\n",
    "print(dias_nuevas)"
   ]
  }
 ],
 "metadata": {
  "kernelspec": {
   "display_name": "Python 3",
   "language": "python",
   "name": "python3"
  },
  "language_info": {
   "codemirror_mode": {
    "name": "ipython",
    "version": 3
   },
   "file_extension": ".py",
   "mimetype": "text/x-python",
   "name": "python",
   "nbconvert_exporter": "python",
   "pygments_lexer": "ipython3",
   "version": "3.11.8"
  }
 },
 "nbformat": 4,
 "nbformat_minor": 2
}
