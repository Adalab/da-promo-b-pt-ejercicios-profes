{
 "cells": [
  {
   "cell_type": "markdown",
   "metadata": {},
   "source": [
    "# Sentencias de control 2 #"
   ]
  },
  {
   "cell_type": "markdown",
   "metadata": {},
   "source": [
    "### <span style=\"color:green\">Definicion ###\n",
    "\n",
    "estructuras que te permiten controlar el flujo de ejecución de un programa. Las  sentencias de control de esta clase es:\n",
    "\n",
    "- bucle for"
   ]
  },
  {
   "cell_type": "markdown",
   "metadata": {},
   "source": [
    "##  <span style=\"color:blue\">Sentencias de control : Bucle For ##\n",
    "\n",
    "### estructura de secuencia\n",
    "\n",
    "permite iterar sobre una secuencia de elementos, como una lista, una cadena de texto o una tupla. Este bucle se utiliza cuando se conoce la cantidad de elementos que se van a recorrer o cuando se desea realizar una operación para cada elemento de una secuencia.\n"
   ]
  },
  {
   "cell_type": "markdown",
   "metadata": {},
   "source": [
    "´´´\n",
    "\n",
    ">for elemento in secuencia:\n",
    "\n",
    "           # Bloque de código a ejecutar para cada elemento\n",
    "\n",
    "Donde: \n",
    "\n",
    "- `elemento`: será cada elemento de nuestro iterable. Lo podemos llamar elemento, i, brocoli o como queramos! \n",
    "\n",
    "- `secuencia`: será el elemento iterable(lista, tupla, diccionario, set, etc.) sobre el que queremos aplicar el `for`"
   ]
  },
  {
   "cell_type": "code",
   "execution_count": 103,
   "metadata": {},
   "outputs": [
    {
     "name": "stdout",
     "output_type": "stream",
     "text": [
      "la fruta de hoy es  manzana\n",
      "la fruta de hoy es  peras\n",
      "la fruta de hoy es  uvas\n"
     ]
    }
   ],
   "source": [
    "# probamos primer ejemplo de bucle for- con una lista de frutas, condicion binaria in y comanda print. NOTA  que el variable fruta. no hace falta estar definida!\n",
    "\n",
    "frutas = [\"manzana\",\"peras\",\"uvas\"]\n",
    "\n",
    "for elemento in frutas:\n",
    "    print(\"la fruta de hoy es \",elemento)"
   ]
  },
  {
   "cell_type": "code",
   "execution_count": 104,
   "metadata": {},
   "outputs": [
    {
     "name": "stdout",
     "output_type": "stream",
     "text": [
      "notas favorables son [7, 8, 9, 10]\n",
      "notas desfavorables son [1, 4, 5, 4]\n",
      "notas medias son [6]\n"
     ]
    }
   ],
   "source": [
    "# vamos asignar los elementos de una lista de grados de un examen, y clasifiar los grados en 3 listas de desfavorable, favorable y media\n",
    "\n",
    "lista_notas =[1,4,5,7,8,9,4,10,6]\n",
    "\n",
    "favorables = []\n",
    "desfavorables = []\n",
    "media = []\n",
    "\n",
    "for nota in lista_notas:\n",
    "\n",
    "    if nota >= 7:\n",
    "        favorables.append(nota)\n",
    "        \n",
    "    elif nota >= 6:\n",
    "        media.append(nota)\n",
    "    else:\n",
    "        desfavorables.append(nota)\n",
    "\n",
    "print(\"notas favorables son\",favorables)\n",
    "print(\"notas desfavorables son\",desfavorables)\n",
    "print(\"notas medias son\",media)\n"
   ]
  },
  {
   "cell_type": "code",
   "execution_count": 105,
   "metadata": {},
   "outputs": [
    {
     "name": "stdout",
     "output_type": "stream",
     "text": [
      "esetamos en elemento\n",
      "estamos en primavera\n",
      "esetamos en elemento\n",
      "estamos en verano\n",
      "esetamos en elemento\n",
      "estamos en otoño\n",
      "esetamos en elemento\n",
      "estamos en invierno\n"
     ]
    }
   ],
   "source": [
    "# ahora vamos a usar otro ejemplo con print y estaciones de año, aqui tambien mostramos la funcion de print con vaiable usando f\n",
    "\n",
    "estaciones = [\"primavera\",\"verano\",\"otoño\",\"invierno\"]\n",
    "\n",
    "for estacion in estaciones:\n",
    "\n",
    "    print(\"esetamos en elemento\")\n",
    "    print(f\"estamos en {estacion}\")\n",
    "\n"
   ]
  },
  {
   "cell_type": "code",
   "execution_count": 106,
   "metadata": {},
   "outputs": [
    {
     "name": "stdout",
     "output_type": "stream",
     "text": [
      "p\n",
      "r\n",
      "i\n",
      "m\n",
      "a\n",
      "v\n",
      "e\n",
      "r\n",
      "a\n"
     ]
    }
   ],
   "source": [
    "# que pasa si hacemos un for con un variable de tipo cadena en lugar de una lista, porque ya sabemos como lo hace con listas, tuplas y sets\n",
    "\n",
    "estacion = \"primavera\"\n",
    "\n",
    "for string in estacion:\n",
    "    print(string)"
   ]
  },
  {
   "cell_type": "code",
   "execution_count": null,
   "metadata": {},
   "outputs": [
    {
     "name": "stdout",
     "output_type": "stream",
     "text": [
      "[30, 20, 40, 20, 10]\n"
     ]
    }
   ],
   "source": [
    "# como hizimos con el clase de if, probamos ya otras comandas como suma y append, \n",
    "# usamos lista de precios, un list vacio de precios anadidos, un for con comanda print y append\n",
    "#usamos ----\n",
    "\n",
    "lista = [30,20,40,20,10]\n",
    "lista_aniadidos = []\n",
    "\n",
    "for numero in lista:\n",
    "    lista_aniadidos.append(numero)\n",
    "\n",
    "print(lista_aniadidos)\n"
   ]
  },
  {
   "cell_type": "code",
   "execution_count": null,
   "metadata": {},
   "outputs": [
    {
     "name": "stdout",
     "output_type": "stream",
     "text": [
      "['MADRID', 'BARCELONA', 'SEVILLA', 'JAEN']\n"
     ]
    }
   ],
   "source": [
    "# para practicar mas, podemos hacer lo mismo usando .upper() para hacer una nueva lista de ciudades con mayusula\n",
    "\n",
    "Lista = [\"madrid\",\"barcelona\",\"sevilla\",\"jaen\"]\n",
    "Lista_mayusculos =[]\n",
    "\n",
    "for ciudad in Lista:\n",
    "    Lista_mayusculos.append(ciudad.upper())\n",
    "\n",
    "print(Lista_mayusculos)\n"
   ]
  },
  {
   "cell_type": "markdown",
   "metadata": {},
   "source": [
    "### Bucles for con diccionarios\n",
    "\n",
    "hemos visto como funcciona for con variables, listas, (igual tuplas y sets)\n",
    "como funcciona con diccionarios?"
   ]
  },
  {
   "cell_type": "code",
   "execution_count": null,
   "metadata": {},
   "outputs": [
    {
     "name": "stdout",
     "output_type": "stream",
     "text": [
      "laura\n",
      "bella\n",
      "maria\n",
      "167\n",
      "172\n",
      "155\n",
      "('laura', 167)\n",
      "('bella', 172)\n",
      "('maria', 155)\n"
     ]
    }
   ],
   "source": [
    "# creamos un diccionario con nombres y alturas y le damos print\n",
    "\n",
    "lista_alturas = {\"laura\":167,\"bella\":172,\"maria\":155}\n",
    "\n",
    "# probamos un if basico con print\n",
    "\n",
    "for elemento in lista_alturas:\n",
    "    print(elemento)\n",
    "\n",
    "\n",
    "# que hacemos si queremos aceder a los valores?\n",
    "\n",
    "for elemento in lista_alturas.values():\n",
    "    print(elemento)\n",
    "#que hacemos si queremos ver too junto? .items()  (2 maneras!)\n",
    "\n",
    "for elemento in lista_alturas.items():\n",
    "    print(elemento)\n",
    "\n",
    "\n",
    "\n",
    "\n"
   ]
  },
  {
   "cell_type": "code",
   "execution_count": null,
   "metadata": {},
   "outputs": [],
   "source": [
    "# ahora vamos a usar un if dentro de un for y diccionario con el mismo diccionario, usando indices\n",
    "#creamos una lista vacia para luego rellenarlo con chicas altas\n",
    "\n",
    "\n"
   ]
  },
  {
   "cell_type": "markdown",
   "metadata": {},
   "source": [
    "## Methodos interesantes para hacer bucle ##\n",
    "\n",
    "## Range\n",
    "\n",
    "``` python\n",
    "range (start, stop, step)\n",
    "```\n",
    "\n",
    "start: es el numero inicial inclusiva\n",
    "stop: numero final exclusiva\n",
    "step: el incremento que se utiliza"
   ]
  },
  {
   "cell_type": "code",
   "execution_count": null,
   "metadata": {},
   "outputs": [
    {
     "name": "stdout",
     "output_type": "stream",
     "text": [
      "3\n",
      "4\n",
      "5\n",
      "6\n",
      "7\n",
      "8\n",
      "9\n",
      "10\n",
      "11\n",
      "12\n",
      "13\n",
      "14\n",
      "15\n",
      "16\n",
      "17\n",
      "18\n",
      "19\n",
      "20\n",
      "21\n",
      "22\n",
      "23\n",
      "24\n",
      "25\n",
      "26\n",
      "27\n",
      "28\n",
      "29\n"
     ]
    }
   ],
   "source": [
    "# probamos un variable con range de numero lo usamos en bucle for, primera vez sin bucle!\n",
    "\n",
    "lista_range = range(3,30)\n",
    "\n",
    "for num in lista_range:\n",
    "    print(num)\n",
    "\n",
    "# probamos unos mas ranges\n"
   ]
  },
  {
   "cell_type": "markdown",
   "metadata": {},
   "source": [
    "## List comprehensions ##\n",
    "\n",
    "Podríamos decir que las *list comprehension* son una forma de crear listas de una manera elegante y simplificada (en una línea de código). \n",
    "\n",
    "La ventaja de utilizarlas: \n",
    "\n",
    "- Son relativamente más rápidas que los bucles for.\n",
    "\n",
    "- La sintaxis de las comprensiones de lista es más fácil de leer y entender.\n",
    "\n",
    "\n",
    "\n",
    "![list](https://github.com/Adalab/data_imagenes/blob/main/Modulo-1/python/list_comprehension.png?raw=true)\n"
   ]
  },
  {
   "cell_type": "code",
   "execution_count": null,
   "metadata": {},
   "outputs": [
    {
     "ename": "TypeError",
     "evalue": "list expected at most 1 argument, got 2",
     "output_type": "error",
     "traceback": [
      "\u001b[0;31m---------------------------------------------------------------------------\u001b[0m",
      "\u001b[0;31mTypeError\u001b[0m                                 Traceback (most recent call last)",
      "Cell \u001b[0;32mIn[99], line 4\u001b[0m\n\u001b[1;32m      1\u001b[0m \u001b[38;5;66;03m# hacemos un bucle for normal, usando range, lista de numeros y suma y una lista vacia\u001b[39;00m\n\u001b[1;32m      2\u001b[0m lista \u001b[38;5;241m=\u001b[39m[]\n\u001b[0;32m----> 4\u001b[0m \u001b[38;5;28;01mfor\u001b[39;00m num \u001b[38;5;129;01min\u001b[39;00m \u001b[38;5;28;43mrange\u001b[39;49m\u001b[43m(\u001b[49m\u001b[38;5;241;43m1\u001b[39;49m\u001b[43m,\u001b[49m\u001b[38;5;241;43m10\u001b[39;49m\u001b[43m)\u001b[49m:\n\u001b[1;32m      5\u001b[0m   lista\u001b[38;5;241m.\u001b[39mappend(num \u001b[38;5;241m*\u001b[39m \u001b[38;5;241m10\u001b[39m)\n\u001b[1;32m      8\u001b[0m \u001b[38;5;28mprint\u001b[39m(lista)\n",
      "\u001b[0;31mTypeError\u001b[0m: list expected at most 1 argument, got 2"
     ]
    }
   ],
   "source": [
    "# hacemos un bucle for normal, usando range, lista de numeros y suma y una lista vacia\n",
    "lista =[]\n",
    "\n",
    "for num in range(1,10):\n",
    "  lista.append(num * 10)\n",
    "\n",
    "\n",
    "print(lista)"
   ]
  },
  {
   "cell_type": "code",
   "execution_count": 1,
   "metadata": {},
   "outputs": [
    {
     "name": "stdout",
     "output_type": "stream",
     "text": [
      "[10]\n",
      "[10, 20]\n",
      "[10, 20, 30]\n",
      "[10, 20, 30, 40]\n",
      "[10, 20, 30, 40, 50]\n",
      "[10, 20, 30, 40, 50, 60]\n",
      "[10, 20, 30, 40, 50, 60, 70]\n",
      "[10, 20, 30, 40, 50, 60, 70, 80]\n",
      "[10, 20, 30, 40, 50, 60, 70, 80, 90]\n"
     ]
    }
   ],
   "source": [
    "lista3 = []\n",
    "for num in range(1,10):\n",
    "    num\n",
    "    lista3.append(num * 10)\n",
    "    print(lista3)"
   ]
  },
  {
   "cell_type": "code",
   "execution_count": 2,
   "metadata": {},
   "outputs": [
    {
     "name": "stdout",
     "output_type": "stream",
     "text": [
      "cuadro []\n",
      "lista lista nueva [0, 1, 4, 9, 16, 25, 36, 49, 64, 81, 100, 121, 144, 169, 196, 225, 256, 289, 324, 361, 400, 441, 484, 529, 576, 625, 676, 729, 784, 841, 900, 961, 1024, 1089, 1156, 1225, 1296, 1369, 1444, 1521, 1600, 1681, 1764, 1849, 1936, 2025, 2116, 2209, 2304, 2401]\n"
     ]
    }
   ],
   "source": [
    "cuadro =[]\n",
    "\n",
    "print(\"cuadro\",cuadro)\n",
    "\n",
    "for num in range(50):\n",
    "    cuadro.append(num**2)\n",
    "print(\"lista lista nueva\",cuadro)"
   ]
  },
  {
   "cell_type": "code",
   "execution_count": 4,
   "metadata": {},
   "outputs": [
    {
     "name": "stdout",
     "output_type": "stream",
     "text": [
      "[0, 1, 4, 9, 16, 25, 36, 49, 64, 81, 100, 121, 144, 169, 196, 225, 256, 289, 324, 361, 400, 441, 484, 529, 576, 625, 676, 729, 784, 841, 900, 961, 1024, 1089, 1156, 1225, 1296, 1369, 1444, 1521, 1600, 1681, 1764, 1849, 1936, 2025, 2116, 2209, 2304, 2401]\n"
     ]
    }
   ],
   "source": [
    "# ahora inteamos a hacer lo mismo con list comprehension\n",
    "\n",
    "list_comprehension =[num ** 2 for num in range(50)]\n",
    "\n",
    "print(list_comprehension)\n"
   ]
  },
  {
   "cell_type": "code",
   "execution_count": null,
   "metadata": {},
   "outputs": [],
   "source": [
    "# hacemos un list comprehension para figurar cuantas letras tiene cada palabra de una lista de frutas\n",
    "#definimos la lista de frutas\n"
   ]
  },
  {
   "cell_type": "code",
   "execution_count": null,
   "metadata": {},
   "outputs": [
    {
     "name": "stdout",
     "output_type": "stream",
     "text": [
      "[0, 2, 4, 6, 8, 10, 12, 14, 16, 18, 20, 22, 24, 26, 28]\n",
      "[0, 2, 4, 6, 8, 10, 12, 14, 16, 18, 20, 22, 24, 26, 28]\n"
     ]
    }
   ],
   "source": [
    "# hacemos una list comrehension con if \n",
    "# sin list comprehension, creamos una lista de numeros pares usando range y for y if\n",
    "\n",
    "pares =[]\n",
    "\n",
    "for num in range(30):\n",
    "    if num % 2 == 0:\n",
    "        pares.append(num)\n",
    "print(pares)\n",
    "\n",
    "#con lista comprehension\n",
    "pares2= []\n",
    "lista4 =[num for num in range (30) if num % 2 == 0]\n",
    "print(lista4)"
   ]
  },
  {
   "cell_type": "code",
   "execution_count": null,
   "metadata": {},
   "outputs": [
    {
     "name": "stdout",
     "output_type": "stream",
     "text": [
      "[1, 2, 3, 4, 5, 6, 7, 8, 9]\n"
     ]
    }
   ],
   "source": [
    "# hacemos un list comprehension con for\n",
    "\n",
    "listas = [[1,2,3], [4,5,6], [7,8,9]]\n",
    "lista_aplanada2 = [num for sublista in listas for num in sublista]\n",
    "print(lista_aplanada2)"
   ]
  },
  {
   "cell_type": "code",
   "execution_count": null,
   "metadata": {},
   "outputs": [
    {
     "name": "stdout",
     "output_type": "stream",
     "text": [
      "[0]\n",
      "[0, 2]\n",
      "[0, 2, 4]\n",
      "[0, 2, 4, 6]\n",
      "[0, 2, 4, 6, 8]\n",
      "[1, 3, 5, 7, 9]\n"
     ]
    }
   ],
   "source": [
    "# hacemos una de los ejercicios\n",
    "# Define e imprime un rango con todos los valores impares que hay hasta 10.\n",
    "\n"
   ]
  }
 ],
 "metadata": {
  "kernelspec": {
   "display_name": "Python 3",
   "language": "python",
   "name": "python3"
  },
  "language_info": {
   "codemirror_mode": {
    "name": "ipython",
    "version": 3
   },
   "file_extension": ".py",
   "mimetype": "text/x-python",
   "name": "python",
   "nbconvert_exporter": "python",
   "pygments_lexer": "ipython3",
   "version": "3.12.2"
  }
 },
 "nbformat": 4,
 "nbformat_minor": 2
}
