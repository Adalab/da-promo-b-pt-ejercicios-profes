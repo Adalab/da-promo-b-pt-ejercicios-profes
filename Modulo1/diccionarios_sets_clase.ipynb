{
 "cells": [
  {
   "cell_type": "markdown",
   "metadata": {},
   "source": [
    "# Diccionarios y Sets (Conjuntos) #\n",
    "\n",
    "> ## <span style=\"color:blue\">Elementos ##"
   ]
  },
  {
   "cell_type": "markdown",
   "metadata": {},
   "source": [
    "## <span style=\"color:blue\">4. Diccionarios {} ##"
   ]
  },
  {
   "cell_type": "markdown",
   "metadata": {},
   "source": [
    "### <span style=\"color:green\">Definicion ###\n",
    "\n",
    "una estructura de datos que se utiliza para almacenar pares clave-valor. Cada elemento en un diccionario consiste en una clave y su correspondiente valor asociado.\n",
    "Un diccionaro se define con ***llaves {}***\n",
    "\n",
    "### Caracteristicas: ###\n",
    "- Coleccion de pares clave-valor\n",
    "- Claves unicos\n",
    "- Flexible\n",
    "- Mutable\n",
    "- desordenanda\n",
    "- Eficiente en busquedas\n"
   ]
  },
  {
   "cell_type": "code",
   "execution_count": 80,
   "metadata": {},
   "outputs": [
    {
     "name": "stdout",
     "output_type": "stream",
     "text": [
      "{'january': 'enero', 'februar': 'febrero', 'march': 'marzo'}\n",
      "{'january': 'enero', 'february': 'febrero'}\n"
     ]
    }
   ],
   "source": [
    "# definimos un diccionario de nombres y edades, y otro de nombres y una lista de dias\n",
    "\n",
    "clase_uno = {\"laura\":21,\"maria\":45,\"belen\":27}\n",
    "\n",
    "# definimos un diccionario de meses en ingles y castellano pero usando funccion dict:  con = y paranthesis entre corchetes, siempre separar con comas\n",
    "\n",
    "dicc_meses = dict(january=\"enero\",februar=\"febrero\",march= \"marzo\")\n",
    "print(dicc_meses)\n",
    "\n",
    "dicc_meses = dict([(\"january\",\"enero\"),(\"february\",\"febrero\")])\n",
    "print(dicc_meses)\n",
    "                 \n",
    "\n",
    "\n"
   ]
  },
  {
   "cell_type": "markdown",
   "metadata": {},
   "source": [
    "### <span style=\"color:green\">Propiedades ###\n",
    "- len()\n",
    "- keys()\n",
    "- values()\n",
    "- items()"
   ]
  },
  {
   "cell_type": "code",
   "execution_count": 87,
   "metadata": {},
   "outputs": [
    {
     "name": "stdout",
     "output_type": "stream",
     "text": [
      "{'laura': 21, 'maria': 45, 'belen': 27}\n",
      "3\n",
      "eso es lo que hace keys() dict_keys(['laura', 'maria', 'belen'])\n",
      "eso es lo que hace values() dict_values([21, 45, 27])\n",
      "eso es lo que hace items() dict_items([('laura', 21), ('maria', 45), ('belen', 27)])\n"
     ]
    }
   ],
   "source": [
    "# probamos algunos propiedades con el diccionario que tenemos\n",
    "print(clase_uno)\n",
    "print(len(clase_uno))\n",
    "print(\"eso es lo que hace keys()\",clase_uno.keys())\n",
    "print(\"eso es lo que hace values()\",clase_uno.values())\n",
    "print(\"eso es lo que hace items()\",clase_uno.items())\n"
   ]
  },
  {
   "cell_type": "markdown",
   "metadata": {},
   "source": [
    "### <span style=\"color:green\">Methodos ###"
   ]
  },
  {
   "cell_type": "markdown",
   "metadata": {},
   "source": [
    "- copy()\n",
    "- clear()\n",
    "- update()\n",
    "- get()\n",
    "- setdefault()\n",
    "- pop()\n",
    "- popitem()"
   ]
  },
  {
   "cell_type": "code",
   "execution_count": 101,
   "metadata": {},
   "outputs": [
    {
     "name": "stdout",
     "output_type": "stream",
     "text": [
      "eso es la edad de laura None\n",
      "eso es la edad de mariana None\n",
      "eso es la edad de mariana 45\n",
      "{'maria': 45, 'belen': 27, 'Estrella': 45, 'Ana': 38, 'mariana': 45}\n",
      "{}\n",
      "aqui esta mi nuevo diccionario None\n",
      "{'maria': 45, 'belen': 27, 'Estrella': 45, 'Ana': 38}\n",
      "{'maria': 45, 'belen': 27, 'Estrella': 45, 'Ana': 38}\n"
     ]
    }
   ],
   "source": [
    "# prbamos algunos methodos, pero siempre usando copaias de nuestro diccionarios para poder ver el impacto de todo\n",
    "\n",
    "clase_uno.copy()\n",
    "clase_uno_copy = clase_uno.copy()\n",
    "print(\"eso es la edad de laura\",clase_uno_copy.get(\"laura\"))\n",
    "\n",
    "# vamos a probar con claves que no existen en nuestro diccionario\n",
    "print(\"eso es la edad de mariana\",clase_uno_copy.get(\"mariana\"))\n",
    "\n",
    "# voy a usar setdefault para poner mariana\n",
    "print(\"eso es la edad de mariana\",clase_uno_copy.setdefault(\"mariana\",45))\n",
    "print(clase_uno_copy)\n",
    "\n",
    "# probamos clear con diccionario\n",
    "clase_uno_copy.clear()\n",
    "print(clase_uno_copy)\n",
    "\n",
    "#probamos update\n",
    "nuevo_miembro = {\"Estrella\":45,\"Ana\":38}\n",
    "print(\"aqui esta mi nuevo diccionario\",clase_uno.update(nuevo_miembro))\n",
    "print(clase_uno)\n",
    "\n",
    "#probar pop\n",
    "\n",
    "print(clase_uno)\n",
    "\n",
    "\n"
   ]
  },
  {
   "cell_type": "markdown",
   "metadata": {},
   "source": [
    "### Una nota: como cambiamos cosas en un diccionario?"
   ]
  },
  {
   "cell_type": "code",
   "execution_count": 72,
   "metadata": {},
   "outputs": [],
   "source": [
    "# probamos cambiar los valores en un diccionario"
   ]
  },
  {
   "cell_type": "markdown",
   "metadata": {},
   "source": [
    "## <span style=\"color:blue\"> 5. Sets(conjuntos) {} ##"
   ]
  },
  {
   "cell_type": "markdown",
   "metadata": {},
   "source": [
    "### <span style=\"color:green\">Definicion ###\n",
    "una estructura de datos desordenada y mutable que se utiliza para almacenar elementos únicos\n",
    "se defina con ***llaves  {[]}**\n",
    "\n",
    "#### caracteristicas: ####\n",
    "  - mutable\n",
    "  - elementos unicos\n",
    "  - desrdenadas\n",
    "  - flexibles\n",
    "  - soporte muchos operaciones\n",
    "  - Eficiente en busquedas"
   ]
  },
  {
   "cell_type": "markdown",
   "metadata": {},
   "source": [
    "### <span style=\"color:green\">Propiedades ###\n",
    "- min()\n",
    "- max()\n",
    "- len()\n",
    "- in not in\n",
    "- set()\n",
    "- !! no hay indices"
   ]
  },
  {
   "cell_type": "code",
   "execution_count": 105,
   "metadata": {},
   "outputs": [
    {
     "name": "stdout",
     "output_type": "stream",
     "text": [
      "hay alquin con edad 22? False\n",
      "el type de lista nombres es:  <class 'list'>\n",
      "el type de set nombres es:  <class 'set'>\n"
     ]
    }
   ],
   "source": [
    "# definimos un set y probamos propiedades\n",
    "\n",
    "edades = {34,67,21,87}\n",
    "print(\"hay alquin con edad 22?\", 22 in edades)\n",
    "\n",
    "nombres = [\"maria\",\"marta\",\"jose\"]\n",
    "print(\"el type de lista nombres es: \",type(nombres))\n",
    "\n",
    "nombre_set= set(nombres)\n",
    "print(\"el type de set nombres es: \",type(nombre_set))"
   ]
  },
  {
   "cell_type": "markdown",
   "metadata": {},
   "source": [
    "### <span style=\"color:green\">Methodos ###\n",
    "- add()\n",
    "- update()\n",
    "- copy()\n",
    "- pop()\n",
    "- remove()\n",
    "- discard()\n",
    "- clear()\n"
   ]
  },
  {
   "cell_type": "code",
   "execution_count": 108,
   "metadata": {},
   "outputs": [
    {
     "name": "stdout",
     "output_type": "stream",
     "text": [
      "aqui el conjunto extendido None\n",
      "{34, 67, 80, 21, 87}\n",
      "{67, 80, 21, 87}\n"
     ]
    }
   ],
   "source": [
    "# probamos algunos mthodos (pop aqui es aleatorio)\n",
    "print(\"aqui el conjunto extendido\",edades.add(80))\n",
    "print(edades)\n",
    "\n",
    "edades.pop()\n",
    "print(edades)\n"
   ]
  },
  {
   "cell_type": "markdown",
   "metadata": {},
   "source": [
    "### <span style=\"color:green\">Operaciones ###\n",
    "\n",
    "Otra vez como los variables, los conjuntos funccionan con operaciones:\n",
    "- union()\n",
    "- intersection()\n",
    "- difference()\n",
    "- symmetric_difference()\n",
    "- isdisjoint()\n",
    "- issubset()\n",
    "- issuperset()\n"
   ]
  },
  {
   "cell_type": "code",
   "execution_count": 119,
   "metadata": {},
   "outputs": [
    {
     "name": "stdout",
     "output_type": "stream",
     "text": [
      "esta es set 1: {0, 1, 3, 5}\n",
      "esta es set 2: {0, 2, 4, 6}\n",
      "y esto es el resultado de unio {0, 1, 2, 3, 4, 5, 6}\n",
      "y esto es el resultado de intersection {0}\n",
      "y esto es el resultado de difference {1, 3, 5}\n",
      "y esto es el resultado de difference {1, 2, 3, 4, 5, 6}\n",
      "y esto es el resultado de difference False\n"
     ]
    }
   ],
   "source": [
    "#probamos las operaciones\n",
    "\n",
    "set1 = {0,1,3,5}\n",
    "set2 = {0,2,4,6}\n",
    "\n",
    "print(\"esta es set 1:\",set1)\n",
    "print(\"esta es set 2:\",set2)\n",
    "\n",
    "print(\"y esto es el resultado de unio\",set1.union(set2))\n",
    "\n",
    "print(\"y esto es el resultado de intersection\",set1.intersection(set2))\n",
    "\n",
    "print(\"y esto es el resultado de difference\",set1.difference(set2))\n",
    "print(\"y esto es el resultado de difference\",set1.symmetric_difference(set2))\n",
    "\n",
    "print(\"y esto es el resultado de difference\",set1.issubset(set2))\n",
    "\n",
    "\n",
    "\n",
    "\n",
    "\n",
    "\n"
   ]
  },
  {
   "cell_type": "code",
   "execution_count": null,
   "metadata": {},
   "outputs": [],
   "source": []
  },
  {
   "cell_type": "code",
   "execution_count": null,
   "metadata": {},
   "outputs": [],
   "source": []
  }
 ],
 "metadata": {
  "kernelspec": {
   "display_name": "Python 3",
   "language": "python",
   "name": "python3"
  },
  "language_info": {
   "codemirror_mode": {
    "name": "ipython",
    "version": 3
   },
   "file_extension": ".py",
   "mimetype": "text/x-python",
   "name": "python",
   "nbconvert_exporter": "python",
   "pygments_lexer": "ipython3",
   "version": "3.11.8"
  }
 },
 "nbformat": 4,
 "nbformat_minor": 2
}
