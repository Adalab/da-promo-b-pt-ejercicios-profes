{
 "cells": [
  {
   "cell_type": "markdown",
   "metadata": {},
   "source": [
    "# ¿Qué es la OOP?\n",
    "\n",
    "La Programación Orientada a Objetos (OOP,  por sus siglas en inglés) es un paradigma de programación que se basa en el concepto de <span style = \"color : blue\"> ***objectos*** </span>  y su interacción para resolver problemas.\n",
    "\n",
    "En la OOP, <span style = \"color : green\"> ***los objetos son instancias de clases*** .\n",
    "\n",
    "#### Una <span style = \"color : green\"> clase </span> es una plantilla o un plano que define las propiedades y comportamientos de un objeto. \n",
    "\n",
    "#### 1- propiedades se conocen como ***atributos***\n",
    "#### 2- comportamientos se conocen como ***métodos***\n",
    "\n",
    "\n",
    "\n",
    "Beneficios:\n",
    "\n",
    "- **Modularidad y reutilización de código**\n",
    "- **Organización y estructura**\n",
    "- **Abstracción y encapsulamiento**\n",
    "- **Polimorfismo**\n",
    "\n",
    "\n",
    "![example](https://miro.medium.com/v2/resize:fit:720/format:webp/1*NxXw72-CDGp7b7pz2kga5g.png)"
   ]
  },
  {
   "cell_type": "markdown",
   "metadata": {},
   "source": [
    "# Conceptos básicos\n",
    "\n",
    "\n",
    "- `Clase (Class)`: una clase es un esquema del objeto. Es un molde sobre el que crearemos los objetos o instancias con las mismas características (color, forma, sabor, etc.)\n",
    "Objeto o Instancia: es la entidad individual.\n",
    "\n",
    "    Es una fruta concreta, la mandarina que es de color naranja, redonda, con sabor dulce/ácido etc.\n",
    "\n",
    "- `Atributos`: son las características que le damos a un objeto dado. En nuestro ejemplo:\n",
    "\n",
    "    - color: naranja\n",
    "\n",
    "    - forma: redonda\n",
    "\n",
    "    - sabor: dulce/ácido\n",
    "\n",
    "\n",
    "- `Métodos`: son las funciones que definen cada objeto."
   ]
  },
  {
   "cell_type": "markdown",
   "metadata": {},
   "source": [
    "\n",
    "\n",
    "\n",
    "\n",
    "Los pasos que deberemos seguir a la hora de crear la clase son: \n",
    "\n",
    "- 1️⃣ Creamos nuestra clase, que llamaremos Mascota.\n",
    "\n",
    "- 2️⃣ Todos las propiedades o atributos en los que estamos interesados deben estar definidos en un método llamado `constructor`\n",
    "\n",
    "\n",
    "   `.init()` inicializa cada nueva instancia de la clase.\n",
    "\n",
    "    Los atributos creados en el `__init__` son llamados atributos de instancia (*instance atributes*)\n",
    "    \n",
    "\n",
    "- 3️⃣ Instanciar un objeto, es decir, crear un nuevo objeto de la clase Mascota.\n",
    "\n",
    "- 4️⃣ Creamos diferentes métodos, es decir, las propiedades que le vamos a dar a cada uno de nuestros objetos.\n",
    "\n",
    "\n"
   ]
  },
  {
   "cell_type": "markdown",
   "metadata": {},
   "source": [
    "## <span style =\"color: orange\"> Crear un clase, y llamarlo con un variable\n",
    "\n",
    "\n",
    "📌 **NOTA** Por convención, para que sepamos que se están trabajando con Clases, estas serán nombradas con la primera letra en mayúsculas. Por el contrario, si recordamos, en las funciones todo será en minúsculas. \n",
    "\n",
    "📌 **NOTA** Para definir clases usaremos la palabra clave `class`. "
   ]
  },
  {
   "cell_type": "code",
   "execution_count": 65,
   "metadata": {},
   "outputs": [],
   "source": [
    "# Creamos nuestra clase, que llamaremos Mascota.\n",
    "# iniciamos nuestra primera clase usando la palabra clave \"class\": \n",
    "# class Mascota: -pass\n",
    "\n",
    "class Mascota:\n",
    "    pass\n",
    "\n",
    "\n"
   ]
  },
  {
   "cell_type": "code",
   "execution_count": 67,
   "metadata": {},
   "outputs": [
    {
     "data": {
      "text/plain": [
       "<__main__.Mascota at 0x111d24e00>"
      ]
     },
     "execution_count": 67,
     "metadata": {},
     "output_type": "execute_result"
    }
   ],
   "source": [
    "# llamamos a la clase y la almacenamos en una variable \n",
    "\n",
    "felix = Mascota()\n",
    "\n",
    "# un variable que se llama felix, es de nuestro clase mascota\n",
    "\n",
    "felix\n"
   ]
  },
  {
   "cell_type": "markdown",
   "metadata": {},
   "source": [
    "## <span style =\"color: orange\"> Crear un clase y definir sus propiedades (atributos)\n",
    "\n",
    "### metodo `constructor`: Clave `__init__` para llamar atributos de instancia\n",
    "\n",
    "```python\n",
    "class x:\n",
    "\n",
    "    def __init__(self,parametro1,parametro2,...):\n",
    "\n",
    "        self.parametro1 = parametro1\n",
    "\n",
    "        self.parametro2 = parametro2\n",
    "\n",
    "    "
   ]
  },
  {
   "cell_type": "code",
   "execution_count": 68,
   "metadata": {},
   "outputs": [],
   "source": [
    "# ahora creamos nustro clase Mascota, con atributos animal, edad y raza\n",
    "class Mascota:\n",
    "    \n",
    "    def __init__(self,animal,edad,raza):\n",
    "        \n",
    "        self.animal = animal\n",
    "        self.edad = edad\n",
    "        self.raza = raza\n",
    "        self.hogar = \"domicilio\"\n",
    "        \n",
    "     \n",
    "\n",
    "# tambien ponemos otro atributo por defecto que se llama hogar y esta \"domicilio\"\n",
    "\n",
    "        "
   ]
  },
  {
   "cell_type": "markdown",
   "metadata": {},
   "source": [
    "#### Instanciar un objecto = crear un objecto de la clase"
   ]
  },
  {
   "cell_type": "code",
   "execution_count": 70,
   "metadata": {},
   "outputs": [
    {
     "data": {
      "text/plain": [
       "<__main__.Mascota at 0x111d4ed20>"
      ]
     },
     "execution_count": 70,
     "metadata": {},
     "output_type": "execute_result"
    }
   ],
   "source": [
    "# como en funcciones, llamamos a la clase y ponemos argumentos en lugar de parametros\n",
    "felix = Mascota(\"gato\",2,\"gato comun\")\n",
    "\n",
    "# la primera instancia de nuestra clase es Fleix que es un gato tiene 1 año y es un gato comun\n",
    "felix\n"
   ]
  },
  {
   "cell_type": "markdown",
   "metadata": {},
   "source": [
    "#### <span style =\"color : orange\"> Como podemos acceder a los distintos atributos que hemos definido para nuestra mascota?\n",
    "\n",
    "```python\n",
    " nombre_objecto.nombre_atributo\n"
   ]
  },
  {
   "cell_type": "code",
   "execution_count": 76,
   "metadata": {},
   "outputs": [
    {
     "name": "stdout",
     "output_type": "stream",
     "text": [
      "gato\n",
      "2\n",
      "gato comun\n",
      "domicilio\n"
     ]
    }
   ],
   "source": [
    "# que tipo de animal es Felix? que raza ? que edad?\n",
    "\n",
    "print(felix.animal)\n",
    "print(felix.edad)\n",
    "print(felix.raza)\n",
    "\n",
    "print(felix.hogar)\n"
   ]
  },
  {
   "cell_type": "markdown",
   "metadata": {},
   "source": [
    "Como se puede cambiar los atributos de nuestra instancia?"
   ]
  },
  {
   "cell_type": "code",
   "execution_count": 93,
   "metadata": {},
   "outputs": [],
   "source": [
    "# queremos cambiar la edad de nuestra mascota a 3\n",
    "\n",
    "felix.edad = 3"
   ]
  },
  {
   "cell_type": "code",
   "execution_count": 46,
   "metadata": {},
   "outputs": [],
   "source": [
    "# si ahora vemos la edad de nuestro gato\n",
    "felix.edad\n"
   ]
  },
  {
   "cell_type": "markdown",
   "metadata": {},
   "source": [
    "Voilà! Ya hemos cambiado la edad de nuestro gato 🥳. "
   ]
  },
  {
   "cell_type": "markdown",
   "metadata": {},
   "source": [
    "Genial, ya hemos definido nuestra primera clase, establecido algunos argumentos y creado nuestra primera instancia de la clase (`felix`)\n",
    "\n",
    "- ✔️ 1️⃣ Creamos nuestra clase, que llamaremos Mascota.\n",
    "\n",
    "- ✔️ 2️⃣ Debemos pensar en que propiedades (lo que serán los atributos que definan a una mascota en concreto) estamos interesados. Todos las propiedades o atributos en los que estamos interesados deben estar definidos en un método llamado `constructor`\n",
    "\n",
    "\n",
    "    Cada vez que se crea un nuevo objeto Mascota, `.init()` establece el estado inicial del objeto asignando los valores de las propiedades del objeto. Es decir, `.init()` inicializa cada nueva instancia de la clase.\n",
    "\n",
    "    Los atributos creados en el `__init__` son llamados atributos de instancia (*instance atributes*)\n",
    "    \n",
    "\n",
    "-  ✔️ 3️⃣ Instanciar un objeto, es decir, crear un nuevo objeto de la clase Mascota.\n",
    "\n",
    "- 4️⃣ Creamos diferentes métodos, es decir, las propiedades que le vamos a dar a cada uno de nuestros objetos.\n",
    "\n",
    "\n",
    "El siguiente paso es definir distintos métodos en nuestra clase. El primero que definiremos será el de cumpleaños de nuestra mascota. \n"
   ]
  },
  {
   "cell_type": "markdown",
   "metadata": {},
   "source": [
    "## <span style =\"color: orange\"> Crear un clase, definir sus atributos y definir algunos metodos!\n",
    "\n",
    "#### usar funcciones dentro de class\n",
    "\n",
    "```python\n",
    "class x:\n",
    "\n",
    "    def __init__(self,parametro1,parametro2,...):\n",
    "\n",
    "        self.parametro1 = parametro1\n",
    "\n",
    "        self.parametro2 = parametro2\n",
    "    \n",
    "    def funccion1(self,parametro1, parametros2,...):\n",
    "\n",
    "        body\n",
    "        \n",
    "        return x"
   ]
  },
  {
   "cell_type": "markdown",
   "metadata": {},
   "source": [
    "### <span style =\"color: orange\"> Importante! todas las funcciones dentro de class, llevan un parametro inicial \"self\"\n",
    "\n",
    "### <span style =\"color: orange\"> Importante! todas las variables definidos dentro de class, llevan inicial \"self.nombre_de_variable\""
   ]
  },
  {
   "cell_type": "code",
   "execution_count": 92,
   "metadata": {},
   "outputs": [],
   "source": [
    "# definimos nuestro primer método\n",
    "# volvemos a crear el mismo clase con methodos range_edad y vacunas()\n",
    "# funccion vacuna(). coge  un parametro que se llama numero_vacuas\n",
    "\n",
    "class Mascota:\n",
    "    \n",
    "    def __init__(self,animal,edad,raza):\n",
    "        self.animal = animal\n",
    "        self.edad = edad\n",
    "        self.raza = raza\n",
    "        self.hogar = \"domicilio\"\n",
    "        \n",
    "    def rango_edad(self):\n",
    "        if self.edad < 2:\n",
    "            return \"junior\"\n",
    "        elif self.edad > 10:\n",
    "            return \"senior\"\n",
    "        else:\n",
    "            return \"adulto\"\n",
    "    \n",
    "    def vacunas(self, numero_vacunas):\n",
    "        \n",
    "        self.numero_vacunas = numero_vacunas\n",
    "        \n",
    "        if self.animal == \"gato\":\n",
    "            if numero_vacunas < 3:\n",
    "                return \"debes vacunar mas\"\n",
    "            else:\n",
    "                return \"tu gato esta bien\"\n",
    "            \n",
    "        elif self.animal == \"perro\":\n",
    "            \n",
    "            if numero_vacunas < 5:\n",
    "                return \"debes vacunar mas\"\n",
    "            else:\n",
    "                return \"tu gato esta bien\"\n",
    "        \n",
    "        else:\n",
    "            \n",
    "               return \" no hace falta poner vacunas\"\n",
    "            \n",
    "\n",
    "            \n",
    "           \n",
    "    \n",
    "\n",
    "\n",
    "\n",
    "\n",
    "\n",
    "\n",
    "\n",
    "\n",
    "\n",
    "\n",
    "\n",
    "\n"
   ]
  },
  {
   "cell_type": "code",
   "execution_count": 83,
   "metadata": {},
   "outputs": [
    {
     "data": {
      "text/plain": [
       "2"
      ]
     },
     "execution_count": 83,
     "metadata": {},
     "output_type": "execute_result"
    }
   ],
   "source": [
    "# como hicimos cambios en la clase, la tenemos que volver a llamar\n",
    "# volvemos a llamar a felix\n",
    "\n",
    "felix = Mascota(\"gato\",2,\"gato comun\")\n",
    "felix.edad\n",
    "\n"
   ]
  },
  {
   "cell_type": "code",
   "execution_count": 49,
   "metadata": {},
   "outputs": [],
   "source": [
    "# queremos usar los metodos para llamar.\n",
    "# cual el rango de edad que tiene felix?"
   ]
  },
  {
   "cell_type": "code",
   "execution_count": 84,
   "metadata": {},
   "outputs": [
    {
     "data": {
      "text/plain": [
       "'adulto'"
      ]
     },
     "execution_count": 84,
     "metadata": {},
     "output_type": "execute_result"
    }
   ],
   "source": [
    "felix.rango_edad()"
   ]
  },
  {
   "cell_type": "code",
   "execution_count": 86,
   "metadata": {},
   "outputs": [
    {
     "data": {
      "text/plain": [
       "'tu gato esta bien'"
      ]
     },
     "execution_count": 86,
     "metadata": {},
     "output_type": "execute_result"
    }
   ],
   "source": [
    "# si nuestro caso nuestro gato tiene dos vacunas, cual es el estado de su vacunacion?\n",
    "\n",
    "felix.vacunas(3)\n"
   ]
  },
  {
   "cell_type": "code",
   "execution_count": 88,
   "metadata": {},
   "outputs": [
    {
     "data": {
      "text/plain": [
       "' no hace falta poner vacunas'"
      ]
     },
     "execution_count": 88,
     "metadata": {},
     "output_type": "execute_result"
    }
   ],
   "source": [
    "# al igual que en los atributos definidos en el método constructor, para saber el número de vacunas tendremos que hacer: \n",
    "mi_pez = Mascota(\"pez\",1,\"pez rojo\")\n",
    "\n",
    "mi_pez.edad\n",
    "\n",
    "mi_pez.vacunas(0)\n"
   ]
  },
  {
   "cell_type": "code",
   "execution_count": 52,
   "metadata": {},
   "outputs": [],
   "source": [
    "# todas las infos sobre Felix: felix.__dict__\n"
   ]
  },
  {
   "cell_type": "markdown",
   "metadata": {},
   "source": [
    "### <span style =\"color: orange\"> Instanciar mas objectos!"
   ]
  },
  {
   "cell_type": "code",
   "execution_count": 53,
   "metadata": {},
   "outputs": [],
   "source": [
    "# instanciamos un pez que tiene 6 años, sellam pez y es un pey payaso\n",
    "\n"
   ]
  },
  {
   "cell_type": "code",
   "execution_count": 54,
   "metadata": {},
   "outputs": [],
   "source": [
    "# llamamos a su edad, su raza, su rango de edad, su vacunacion, su hogar\n",
    "\n",
    "\n",
    "\n"
   ]
  },
  {
   "cell_type": "markdown",
   "metadata": {},
   "source": [
    "\n",
    "\n",
    "### <span style =\"color: orange\"> Parte-2: Herencias de las clases\"\n",
    "\n",
    "Las herencias nos van a permitir crear nuevas clases a partir de clases que ya hemos definido previamente.\n",
    "\n",
    "- Clase que hereda --> CLASE HIJA, SUBCLASE o CHILD\n",
    "\n",
    "- Clase de la que hereda --> CLASE MADRE, SUPERCLASE o PARENT\n",
    "\n",
    "\n",
    "Ventaja principal? nos ayuda a reutilizar código"
   ]
  },
  {
   "cell_type": "markdown",
   "metadata": {},
   "source": [
    "```python\n",
    "class NUEVA_CLASE(CLASE DE LA QUE HEREDA):\n",
    "    # pasan cosas que vamos a ver ahora\n",
    "``` "
   ]
  },
  {
   "cell_type": "code",
   "execution_count": 55,
   "metadata": {},
   "outputs": [],
   "source": [
    "# recordemos como era nuestra clase\n",
    "\n",
    "class Mascota:\n",
    "\n",
    "    def __init__(self, animal, edad, raza):\n",
    "\n",
    "        self.animal = animal\n",
    "\n",
    "        self.edad = edad\n",
    "\n",
    "        self.raza = raza\n",
    "\n",
    "        self.hogar = 'domicilio'\n",
    "\n",
    "    def rango_edad(self):\n",
    "        if self.edad < 2:\n",
    "            return 'junior'\n",
    "        elif self.edad > 10:\n",
    "            return 'senior'\n",
    "        else:\n",
    "            return 'adulto'\n",
    "\n",
    "    def vacunas(self, numero_vacunas):\n",
    "\n",
    "        self.numero_vacunas = numero_vacunas\n",
    "        \n",
    "        if self.animal == \"gato\":\n",
    "            if numero_vacunas < 3:\n",
    "                return \"deberías ponerle todas las vacunas\"\n",
    "            else:\n",
    "                return \"Tu gatito esta seguro\"\n",
    "\n",
    "        elif self.animal == \"perro\":\n",
    "            if numero_vacunas < 5:\n",
    "                return \"deberías ponerle todas las vacunas\"\n",
    "            else:\n",
    "                return \"tu perrete esta seguro\"\n",
    "\n",
    "        elif self.animal == \"pez\":\n",
    "            return \"Tu mascota no necesita vacunas\"\n",
    "            \n",
    "        else:\n",
    "            return \"todavía no sabemos cuantas vacunas necesita tu mascota\"\n",
    "\n"
   ]
  },
  {
   "cell_type": "code",
   "execution_count": 90,
   "metadata": {},
   "outputs": [],
   "source": [
    "# creamos una nueva clase que hereda de Mascota\n",
    "\n",
    "class Perros(Mascota):\n",
    "    pass\n",
    "    \n",
    "# class Perros (Mascota): pass"
   ]
  },
  {
   "cell_type": "code",
   "execution_count": 91,
   "metadata": {},
   "outputs": [
    {
     "ename": "TypeError",
     "evalue": "Mascota.__init__() missing 3 required positional arguments: 'animal', 'edad', and 'raza'",
     "output_type": "error",
     "traceback": [
      "\u001b[0;31m---------------------------------------------------------------------------\u001b[0m",
      "\u001b[0;31mTypeError\u001b[0m                                 Traceback (most recent call last)",
      "Cell \u001b[0;32mIn[91], line 3\u001b[0m\n\u001b[1;32m      1\u001b[0m \u001b[38;5;66;03m# llamemos ahora a nuestra clase hija con un perro sin parametros\u001b[39;00m\n\u001b[1;32m      2\u001b[0m \u001b[38;5;66;03m# reintamos con parametr\u001b[39;00m\n\u001b[0;32m----> 3\u001b[0m belfi \u001b[38;5;241m=\u001b[39m \u001b[43mPerros\u001b[49m\u001b[43m(\u001b[49m\u001b[43m)\u001b[49m\n\u001b[1;32m      4\u001b[0m belfi\n",
      "\u001b[0;31mTypeError\u001b[0m: Mascota.__init__() missing 3 required positional arguments: 'animal', 'edad', and 'raza'"
     ]
    }
   ],
   "source": [
    "# llamemos ahora a nuestra clase hija con un perro sin parametros\n",
    "# reintamos con parametr\n",
    "belfi = Perros()\n",
    "belfi\n"
   ]
  },
  {
   "cell_type": "markdown",
   "metadata": {},
   "source": [
    "**También podremos llamar a los métodos definidos en la clase Mascota()**"
   ]
  },
  {
   "cell_type": "code",
   "execution_count": 58,
   "metadata": {},
   "outputs": [],
   "source": [
    "# igual que por otros objectos, probamos sus metodos y atributos!\n"
   ]
  },
  {
   "cell_type": "code",
   "execution_count": 59,
   "metadata": {},
   "outputs": [],
   "source": [
    "# con el método isinstance podemos saber si un objeto es herencia de una superclase\n",
    "# isinstance(perro, Mascota)"
   ]
  },
  {
   "cell_type": "markdown",
   "metadata": {},
   "source": [
    "### <span style =\"color: orange\"> Como añadir atributos o metodos al clase hija?\n",
    "\n",
    "```python\n",
    "class clase_hija(clase_madre):\n",
    "\n",
    "    def __init__(self,parametro1,parametro2,..):\n",
    "\n",
    "        super().__init__(parametro1,parametro2,..)\n",
    "        \n",
    "    body\n"
   ]
  },
  {
   "cell_type": "code",
   "execution_count": 60,
   "metadata": {},
   "outputs": [],
   "source": [
    "# recreamos el clase gija Perros con un metodo nuevo aniadido\n",
    "# este metodo coge los numeros de paseos y devuelve un comentario\n",
    "\n",
    "\n",
    "\n",
    "\n",
    "    "
   ]
  },
  {
   "cell_type": "code",
   "execution_count": 61,
   "metadata": {},
   "outputs": [],
   "source": [
    "# como hemos cambiado la clase hija, volvemos a crear la instancia\n",
    "\n"
   ]
  },
  {
   "cell_type": "code",
   "execution_count": 62,
   "metadata": {},
   "outputs": [],
   "source": [
    "# llamemos ahora al nuevo método que hemos creado\n"
   ]
  },
  {
   "cell_type": "code",
   "execution_count": 63,
   "metadata": {},
   "outputs": [],
   "source": [
    "# ver la info de la clase\n",
    "# print(help(Perros))"
   ]
  },
  {
   "cell_type": "code",
   "execution_count": 64,
   "metadata": {},
   "outputs": [],
   "source": [
    "#print(help(Mascota))"
   ]
  }
 ],
 "metadata": {
  "kernelspec": {
   "display_name": "Python 3 (ipykernel)",
   "language": "python",
   "name": "python3"
  },
  "language_info": {
   "codemirror_mode": {
    "name": "ipython",
    "version": 3
   },
   "file_extension": ".py",
   "mimetype": "text/x-python",
   "name": "python",
   "nbconvert_exporter": "python",
   "pygments_lexer": "ipython3",
   "version": "3.12.2"
  },
  "toc": {
   "base_numbering": 1,
   "nav_menu": {},
   "number_sections": true,
   "sideBar": true,
   "skip_h1_title": false,
   "title_cell": "Table of Contents",
   "title_sidebar": "Contents",
   "toc_cell": true,
   "toc_position": {},
   "toc_section_display": true,
   "toc_window_display": true
  },
  "vscode": {
   "interpreter": {
    "hash": "31f2aee4e71d21fbe5cf8b01ff0e069b9275f58929596ceb00d14d90e3e16cd6"
   }
  }
 },
 "nbformat": 4,
 "nbformat_minor": 2
}
