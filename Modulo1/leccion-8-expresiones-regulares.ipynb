{
 "cells": [
  {
   "cell_type": "markdown",
   "metadata": {},
   "source": [
    "## <span style= \"color : yellow \" > Como buscar numeros concretos en listas de numeros?"
   ]
  },
  {
   "cell_type": "code",
   "execution_count": 53,
   "metadata": {},
   "outputs": [
    {
     "data": {
      "text/plain": [
       "[34, 321, 56]"
      ]
     },
     "execution_count": 53,
     "metadata": {},
     "output_type": "execute_result"
    }
   ],
   "source": [
    "# queremos poner numero mas de 30 en una lista utilizando un for\n",
    "\n",
    "lista = [23,34,6,8,12,5,7,321,56,3]\n",
    "objetivo = []\n",
    "\n",
    "for numero in lista:\n",
    "    \n",
    "    if numero > 30:\n",
    "        objetivo.append(numero)\n",
    "        \n",
    "    else:\n",
    "        pass\n",
    "objetivo\n",
    "\n"
   ]
  },
  {
   "cell_type": "code",
   "execution_count": 54,
   "metadata": {},
   "outputs": [
    {
     "data": {
      "text/plain": [
       "0"
      ]
     },
     "execution_count": 54,
     "metadata": {},
     "output_type": "execute_result"
    }
   ],
   "source": [
    "# queremos reemplazar el variable MI_numero con 0 en caso que es numero par\n",
    "mi_numero = 8\n",
    "\n",
    "if mi_numero %2 == 0:\n",
    "    mi_numero= 0\n",
    "else:\n",
    "    pass\n",
    "\n",
    "mi_numero\n"
   ]
  },
  {
   "cell_type": "markdown",
   "metadata": {},
   "source": [
    "#### <span style = \"color : blue\"> Condiciones numericos!\n",
    "\n",
    "> < >=\n",
    "==\n",
    "\n",
    "### <span style = \"color : orange\"> Pero como hacer mismo con una lista de cadenas?!!"
   ]
  },
  {
   "cell_type": "code",
   "execution_count": 55,
   "metadata": {},
   "outputs": [],
   "source": [
    "mensaje = \"me gusta mucho el Python, tambien Me gusta C++\"\n",
    "\n",
    "# quiero elinimar la palabra si empieza con m\n",
    "\n"
   ]
  },
  {
   "cell_type": "markdown",
   "metadata": {},
   "source": [
    "# <span style=\"color : orange\"> ¿Qué es Regex? \n",
    "\n",
    "Regex (de la abreviatura de expresion regular): una herramienta poderosa para buscar, validar y manipular cadenas de caracteres basándose en patrones predefinidos.\n",
    "\n",
    "Con regex, podemos especificar patrones complejos que coincidan con cadenas de texto específicas. \n",
    "\n",
    "Nos permite analizar rápidamente grandes cantidades de texto para:\n",
    "\n",
    "- Encontrar patrones de caracteres específicos.\n",
    "\n",
    "- Validar el texto para asegurarse de que coincide con un patrón predefinido (como una dirección de correo electrónico).\n",
    "\n",
    "- Extraer, editar, sustituir o eliminar subcadenas de texto.\n",
    "\n",
    " \n",
    "\n",
    "#### Regex es que universal para cualquier tipo de lenguaje de programación!"
   ]
  },
  {
   "cell_type": "markdown",
   "metadata": {},
   "source": [
    "## <span style=\"color : orange\"> Operadores comunes\n",
    "\n",
    "\n",
    "- `+`  : coincide con el carácter precedente ***una o más veces***.\n",
    "   ab+c : abc, abbc, abbbc, \n",
    "ac NO\n",
    "\n",
    "- `*` : coincide con el carácter precedente ***cero o más veces ***\n",
    "   ab*c : abc, ac\n",
    "\n",
    "- `?` : indica ***cero o una ocurrencia*** del elemento precedente.\n",
    "   ab?c\n",
    "\n",
    "- `.` : coincide con cualquier carácter individual.\n",
    "\n",
    "\n",
    "- `^` : coincide con la posición inicial de cualquier *string*\n",
    "\n",
    "\n",
    "- `$` : coincide con la posición final de cualquier *string*\n",
    "\n"
   ]
  },
  {
   "cell_type": "markdown",
   "metadata": {},
   "source": [
    "## <span style=\"color : orange\"> Sintaxis básica de regex\n",
    "\n",
    "- `\\w`: buscaremos cualquier caracter de tipo alfabético.\n",
    "\n",
    "- `\\d`: buscaremos cualquier caracter de tipo númerico.\n",
    "\n",
    "- `\\s`: buscaremos los espacios en nuestro *string*.\n",
    "\n",
    "- `\\n`: buscaremos los saltos de línea en nuestro *string*.\n",
    "\n",
    "- `\\W`: buscaremos cualquier caracter que no sea una letra.\n",
    "\n",
    "- `\\D`: buscaremos cualquier caracter que no sea un dígito. \n",
    "\n",
    "- `\\S`: buscaremos cualquier elemento que no sea un espacio en nuestro *string* \n",
    "\n",
    "\n",
    "\n",
    "- `[]` : incluye todos los caracteres que queremos que coincidan e incluso incluye rangos como este: a-z y 0-9.\n",
    "\n",
    "    Por ejemplo encontrar todos los caracteres en minúscula de una cadena [a-z]\n",
    "\n",
    "    Para los caracteres en mayúscula [A-Z]\n",
    "\n",
    "    Para los números [0-9]\n",
    "\n",
    "\n",
    "- `|` : es como el operador `or` que conocemos de Python.\n",
    "\n",
    "\n",
    "- `\\` : señala una secuencia especial ( escapar caracteres especiales).\n",
    " \n",
    "\n",
    "- `{}`: Exactamente el número especificado de ocurrencias\n",
    "\n",
    "    - {n}: Exactamente n veces\n",
    "\n",
    "    - {n,}: Al menos n veces\n",
    "\n",
    "    - {n,m}: Entre n y m veces\n",
    "\n",
    "\n",
    "\n",
    "una cheatsheet de Regex por si os ayuda! \n",
    "\n",
    "![regex](https://github.com/Adalab/data_imagenes/blob/main/Modulo-1/python/cheatsheet_regex.png?raw=true)"
   ]
  },
  {
   "cell_type": "markdown",
   "metadata": {},
   "source": [
    "# <span style = \"color : orange\"> Regex en Python"
   ]
  },
  {
   "cell_type": "markdown",
   "metadata": {},
   "source": [
    "### 5 funciones principales para trabajar con Regex\n",
    "\n",
    "\n",
    "- `findall` : devuelve una lista con todas las coincidencias.\n",
    "\n",
    "- `sub` : reemplaza una o varias coincidencias con un *string* especificado.\n",
    "\n",
    "- `split` : devuelve una lista en la que el *string* ha sido dividido en cada coincidencia. pero incluyendo regex.  \n",
    "\n",
    "- `match` : busca el patrón de expresión regular y devuelve la primera ocurrencia.\n",
    "\n",
    "- `search` : devuelve un objeto Match si hay una coincidencia en cualquier parte de la cadena.\n",
    "\n"
   ]
  },
  {
   "cell_type": "code",
   "execution_count": 56,
   "metadata": {},
   "outputs": [],
   "source": [
    "# lo primero que hacermos es importar la librería re, ya que la necesitaremos para trabajar con regex en python\n",
    "import re"
   ]
  },
  {
   "cell_type": "markdown",
   "metadata": {},
   "source": [
    "## `re.findall()`\n",
    "\n",
    "El método `re.findall()` se utiliza para buscar todas las ocurrencias de un patrón específico dentro de una cadena de texto (un *string*) y devolverlas como una **lista**. Su sintaxis es:\n",
    "\n",
    "```python\n",
    "re.findall(patron_regex, string)\n",
    "```\n",
    "\n",
    "Basándonos en el ejemplo que tenemos en la imagen:\n",
    "\n",
    "- **patron_regex**: sería el patrón de regex que queremos buscar en el texto, en este caso `[a-z]+`\n",
    "\n",
    "- **string**: el *string* sobre el que queremos buscar el patrón, en este caso `que tal`\n",
    "\n",
    "![findall](https://github.com/Adalab/data_imagenes/blob/main/Modulo-1/python/re-findall().png?raw=true)"
   ]
  },
  {
   "cell_type": "markdown",
   "metadata": {},
   "source": [
    "<span style=\"color : orange\"> Extraer únicamente la información sobre los números de teléfono que tenemos en el *string*."
   ]
  },
  {
   "cell_type": "code",
   "execution_count": 82,
   "metadata": {},
   "outputs": [
    {
     "name": "stdout",
     "output_type": "stream",
     "text": [
      "Los numeros capturados en nuestro patrón son: ['123456789', '987654321']\n"
     ]
    }
   ],
   "source": [
    "# definimos un string\n",
    "\n",
    "string = \"\"\"Hola, mi número es 123456789 y \n",
    "            el de mi amigo es 987654321\"\"\"  \n",
    "            \n",
    "# definimos el patrón. Recordemos que para los dígitos tenemos la sintaxis \"\\d\" que nos va a capturar todos los números. Le pondremos un \"+\" por que queremos que sean muchos números. \n",
    "patron1 = r\"\\d+\"\n",
    "\n",
    "# utilizamos el método re.findall para sacar los números de nuestro string\n",
    "numeros = re.findall(patron1, string)\n",
    "\n",
    "# veamos ahora que es numeros, donde esperaríamos encontrarnos una lista solo de números\n",
    "print(\"Los numeros capturados en nuestro patrón son:\", numeros)"
   ]
  },
  {
   "cell_type": "markdown",
   "metadata": {},
   "source": [
    "<span style=\"color : orange\"> Extraer las fechas de nacimiento. "
   ]
  },
  {
   "cell_type": "code",
   "execution_count": 83,
   "metadata": {},
   "outputs": [
    {
     "name": "stdout",
     "output_type": "stream",
     "text": [
      "Las fechas de nacimiento son:  ['12-03-1990', '25-08-1985']\n"
     ]
    }
   ],
   "source": [
    "texto = \"La fecha de nacimiento de Juan es 12-03-1990 y la fecha de nacimiento de María es 25-08-1985.\"\n",
    "\n",
    "# Buscar todas las fechas de nacimiento en el texto\n",
    "coincidencias = re.findall(r\"\\d{2}-\\d{2}-\\d{4}\", texto)\n",
    "\n",
    "# Imprimir las coincidencias encontradas\n",
    "print(\"Las fechas de nacimiento son: \", coincidencias)\n"
   ]
  },
  {
   "cell_type": "markdown",
   "metadata": {},
   "source": [
    "<span style=\"color : orange\"> Probar las operaciones de arriba como + y * etc"
   ]
  },
  {
   "cell_type": "code",
   "execution_count": 59,
   "metadata": {},
   "outputs": [
    {
     "name": "stdout",
     "output_type": "stream",
     "text": [
      "El resultado es: ['la', 'la', 'la', 'la', 'la', 'la', 'la', 'la', 'la', 'la', 'la']\n"
     ]
    }
   ],
   "source": [
    "# definimos un nuevo string\n",
    "lala = \"la lala la lalala l laaa lo laaaaaaaa la laaaa\"\n",
    "\n",
    "# si buscamos sin ninguno de estos operadores los caracteres \"la\", buscaremos literalmente las palabras \"la\"\n",
    "# Si nos fijamos, nos devuelve unicamente *strings* \"la\", sin nada más! \n",
    "la1 = re.findall('la', lala)\n",
    "print(\"El resultado es:\", la1)\n"
   ]
  },
  {
   "cell_type": "code",
   "execution_count": 60,
   "metadata": {},
   "outputs": [
    {
     "name": "stdout",
     "output_type": "stream",
     "text": [
      "El resultado es: ['la', 'la', 'la', 'la', 'la', 'la', 'la', 'l', 'la', 'l', 'la', 'la', 'la']\n"
     ]
    }
   ],
   "source": [
    "# también teníamos el operador \"?\", el cual buscaba 0 o 1 coincidencia con el caracter previo. En nuestro caso, vamos a buscar todos aquellos caracteres que tengan una \"l\" SEGUIDO O NO de UNA SOLA \"a\"\n",
    "la2 = re.findall('la?', lala)\n",
    "\n",
    "# Esto nos esta devolviendo aquellas partes de nuestro *string* donde tenemos una \"l\" sola o una \"l\" seguida de UNA ÚNICA \"a\". \n",
    "# Es decir, no está considerando aquellas partes del *string* donde tengamos una \"l\" seguida de más de una \"a\". \n",
    "print(\"El resultado es:\", la2)"
   ]
  },
  {
   "cell_type": "code",
   "execution_count": 61,
   "metadata": {},
   "outputs": [
    {
     "name": "stdout",
     "output_type": "stream",
     "text": [
      "El resultado es: ['la', 'la', 'la', 'la', 'la', 'la', 'la', 'laaa', 'laaaaaaaa', 'la', 'laaaa']\n"
     ]
    }
   ],
   "source": [
    "# además teníamos el operador \"+\",  que a diferencia de la \"?\", nos macheaba todo lo que tenga una \"l\" SEGUIDO de UNA o MAS \"a\". \n",
    "# Es decir, a diferencia del \"?\", con el \"+\" la \"a\" TIENE QUE ESTAR\n",
    "la3 = re.findall('la+', lala)\n",
    "\n",
    "# Si nos fijamos en lo que nos devuelve vemos que, en este caso ya no tenemos la \"l\" sola, ya que con el `+` la \"a\" tiene que estar si o si. \n",
    "# Pero además nos ha añadido el \"laaa\", ya que con el operador `+` especificamos que aparezca una o más veces. \n",
    "print(\"El resultado es:\", la3)"
   ]
  },
  {
   "cell_type": "code",
   "execution_count": 62,
   "metadata": {},
   "outputs": [
    {
     "name": "stdout",
     "output_type": "stream",
     "text": [
      "El resultado es: ['la', 'la', 'la', 'la', 'la', 'la', 'la', 'l', 'laaa', 'l', 'laaaaaaaa', 'la', 'laaaa']\n"
     ]
    }
   ],
   "source": [
    "# por último tenemos el operador \"*\", el cuál buscará todo aquello que tenga una \"l\" SEGUIDO o NO de UNA o MAS \"a\". \n",
    "# A diferencia del \"?\", aquí nos capturará si hay más de una \"a\" mientras que el \"?\" solo nos machea una. \n",
    "la4 = re.findall('la*', lala)\n",
    "print(\"El resultado es:\", la4)"
   ]
  },
  {
   "cell_type": "markdown",
   "metadata": {},
   "source": [
    "Recordamos las llaves `{}`, los cuáles nos permitian especificar el número de veces que queremos buscar un caracter especificado. \n",
    "\n",
    "\n",
    "\n",
    "```python\n",
    "\n",
    "# imaginamos que tenemos el siguiente patrón: \n",
    "\n",
    "patron1 = \"1234{3}\"\n",
    "\n",
    "# el {3} solo está afectando sobre el 4, es decir, el caracter previo. Por lo tanto, con este patrón estaríamos buscando cualquier elemento en nuestro string que tenga 123 seguido de 3 cuatros. \n",
    "``` "
   ]
  },
  {
   "cell_type": "code",
   "execution_count": 63,
   "metadata": {},
   "outputs": [
    {
     "name": "stdout",
     "output_type": "stream",
     "text": [
      "El resultado es: ['aa', 'aa', 'aa', 'aa', 'aa', 'aa', 'aa']\n"
     ]
    }
   ],
   "source": [
    "# si queremos que nos busque exactamente 2 \"a\"\n",
    "res_a1 = re.findall('a{2}' , lala)\n",
    "\n",
    "# Si nos fijamos en lo que nos devuelve vemos que, en este caso ya no tenemos la \"l\" sola, ya que el operador {} lo que hace es buscar unicamente el número de letras que indicamos, en este caso 2. \n",
    "print(\"El resultado es:\", res_a1)"
   ]
  },
  {
   "cell_type": "code",
   "execution_count": 64,
   "metadata": {},
   "outputs": [
    {
     "name": "stdout",
     "output_type": "stream",
     "text": [
      "El resultado es: ['aaa', 'aaaaaaaa', 'aaaa']\n"
     ]
    }
   ],
   "source": [
    "# si queremos buscar al menos tres \"a\" en nuestro string usaremos {3,}. Esto nos devolverá la parte del string que tenga 3 o más \"a\"\n",
    "res_a2 = re.findall('a{3,}' , lala)\n",
    "\n",
    "# ahora lo que nos devuelve nuestro patrón es una lista con los elementos que coinciden con tres o más \"a\"\n",
    "print(\"El resultado es:\", res_a2)\n"
   ]
  },
  {
   "cell_type": "code",
   "execution_count": 65,
   "metadata": {},
   "outputs": [
    {
     "name": "stdout",
     "output_type": "stream",
     "text": [
      "El resultado es: ['aaa', 'aaaa', 'aaaa', 'aaaa']\n"
     ]
    }
   ],
   "source": [
    "# si quisieramos buscar mínimo 2  y máximo 4 \"a\", usaremos {2,4}\n",
    "res_a3 = re.findall('a{2,4}', lala)\n",
    "\n",
    "# ahora lo que estamos viendo es todas las coincidencias que tengan entre 2 y 4 \"a\"\n",
    "print(\"El resultado es:\", res_a3)\n"
   ]
  },
  {
   "cell_type": "markdown",
   "metadata": {},
   "source": [
    "<span style=\"color : orange\"> El operador `|` en regex </span> es el 'or' como vimos en las sentencias booleanas. \n",
    "\n",
    "Tenemos la siguiente canción 👇🏽 y queremos saber cuántas veces aparece la palabra barquito en nuestro *string* y que nos da igual si la \"b\" esta en mayúscula o minúscula, en este caso deberíamos buscar: \n",
    "\n",
    "> barquito **o** Barquito\n",
    "\n"
   ]
  },
  {
   "cell_type": "code",
   "execution_count": 66,
   "metadata": {},
   "outputs": [
    {
     "name": "stdout",
     "output_type": "stream",
     "text": [
      "B|barquito aparece en la cancion: ['Barquito', 'barquito', 'barquito', 'barquito', 'barquito']\n"
     ]
    }
   ],
   "source": [
    "# vamos a definir un string sobre el que trabajaremos en los siguientes ejemplos:\n",
    "\n",
    "cancion =\"\"\"Había una Vez un Barquito Chiquitito,   \n",
    "había una vez un barquito chiquitito,\n",
    "que no sabia, que no sabía , que no sabía navegar.\n",
    "\n",
    "Pasaron un, dos, tres,\n",
    "cuatro , cinco, seis semanas,\n",
    "pasaron 1, 2 , 3,\n",
    "4, 5 , 6 semanas,\n",
    "y aquel barquito y aquel barquito\n",
    "y aquel barquito navegó.\"\"\"\n",
    "\n",
    "barquitos3 = re.findall('barquito|Barquito',cancion)\n",
    "\n",
    "print(\"B|barquito aparece en la cancion:\",  barquitos3)"
   ]
  },
  {
   "cell_type": "markdown",
   "metadata": {},
   "source": [
    "**<span style=\"color : orange\"> Unos operadores que pueden resultar confusos cuando los aprendemos, los operadores `^` y `$`**. \n",
    "\n",
    "\n",
    "\n",
    "- El operador `^` nos sirve para buscar en el incio del *string*, es decir, **EL PRIMER CARACTER DE TODO EL *STRING***. \n",
    "\n",
    "- El operador `$` nos sirve para buscar en el final del *string*, es decir, **EL ÚLTIMO CARACTER DE TODO EL *STRING***. "
   ]
  },
  {
   "cell_type": "code",
   "execution_count": 67,
   "metadata": {},
   "outputs": [],
   "source": [
    "# definamos un nuevo string\n",
    "saludo = \"Hola Adalabers, regex puede ser un poco dificil, pero lo podemos superar!!! Es cuestión de práctica\""
   ]
  },
  {
   "cell_type": "code",
   "execution_count": 68,
   "metadata": {},
   "outputs": [
    {
     "name": "stdout",
     "output_type": "stream",
     "text": [
      "El resultado de buscar que empiece por 're' es: []\n",
      "El resultado de buscar que empiece por 'Ho' es: ['Hola']\n"
     ]
    }
   ],
   "source": [
    "# con este patrón lo que estamos buscando es el string que empieza por \"re\". \n",
    "inicio_re = re.findall(r\"^re\\w+\", saludo)\n",
    "\n",
    "print(\"El resultado de buscar que empiece por 're' es:\", inicio_re)\n",
    "\n",
    "# con este string estamos buscando es el string que empieza por \"Ho\" y que luego tenga más letras, por eso ponemos \"\\w+\"\n",
    "inicio_ho = re.findall(r\"^Ho\\w+\", saludo)\n",
    "print(\"El resultado de buscar que empiece por 'Ho' es:\" , inicio_ho)"
   ]
  },
  {
   "cell_type": "markdown",
   "metadata": {},
   "source": [
    "\n",
    "\n",
    "<span style =\"color : orange\"> Tenemos una lista de direcciones, queremos creae una nueva lista de direcciones que sean calles. \n"
   ]
  },
  {
   "cell_type": "code",
   "execution_count": 69,
   "metadata": {},
   "outputs": [
    {
     "name": "stdout",
     "output_type": "stream",
     "text": [
      "El resutlado es:  ['Calle de la Paz', 'Calle de la Esperanza', 'Calle Gloria']\n"
     ]
    }
   ],
   "source": [
    "direcciones = [\"Calle de la Paz\", \"Avenida de la Libertad\", \"Calle de la Esperanza\", \"Plaza de las Virtudes\", \"Calle Gloria\", \"Avenida de la Gran Calle\"]\n",
    "\n",
    "# creamos una lista vacía donde iremos añadiendo las direcciones que tengan \"Calle\"\n",
    "direccion_calle = []\n",
    "\n",
    "for direccion in direcciones: \n",
    "    # hacemos un findall para ver si cada una de las direcciones empieza con \"Calle\"\n",
    "\n",
    "    calle = re.findall(r\"^Calle\", direccion) # esto nos devolverá una lista vacía en caso de que la dirección no comience por \"Calle\", pero será una lista con contenido cuando la dirección empiece con \"Calle\"\n",
    "\n",
    "    # jugando con las longitudes del resultado del findall anterior, solo querremos apendear la dirección si el findall nos devuelve algo, y por lo tanto la longitud de la lista calle será distinto de 0. \n",
    "    if len(calle) != 0:\n",
    "       direccion_calle.append(direccion)\n",
    "\n",
    "\n",
    "# si ahora vemos el contenido de la lista direcciones_calle, solo tendremos las direcciones que empiecen por \"Calle\", pero no aquellas que no empiecen con \"Calle\" o que lo tengan en mitad del string. \n",
    "print(\"El resutlado es: \", direccion_calle)"
   ]
  },
  {
   "cell_type": "markdown",
   "metadata": {},
   "source": [
    "## `re.sub()`\n",
    "\n",
    "Reemplazar ocurrencias de una expresión regular en una cadena o *string* con un nuevo valor.\n",
    "\n",
    "La sintaxis:\n",
    "\n",
    "```python\n",
    "re.sub(patron, reemplazo, cadena)\n",
    "```\n",
    "\n",
    "Basándonos en la imagen que tenemos a continuación:\n",
    "\n",
    "- **patron**: sería el patrón de regex que queremos buscar en el texto, en este caso `a`.\n",
    "\n",
    "- **reemplazo**: el *string* por el que vamos a reemplazar el patrón anterior, en este caso `b`.\n",
    "\n",
    "- **cadena**: es el *string* sobre el que querremos reemplazar el patrón que estamos buscando, en este caso `aabb`. \n",
    "\n",
    "![sub](https://github.com/Adalab/data_imagenes/blob/main/Modulo-1/python/re-sub.png?raw=true)"
   ]
  },
  {
   "cell_type": "markdown",
   "metadata": {},
   "source": [
    "<span style = \"color : orange\" > Reemplazar e con 9 en un texto!"
   ]
  },
  {
   "cell_type": "code",
   "execution_count": 70,
   "metadata": {},
   "outputs": [
    {
     "name": "stdout",
     "output_type": "stream",
     "text": [
      "El resultado es: C++ 9s 9l m9jor l9nguaj9. C++ mola!\n"
     ]
    }
   ],
   "source": [
    "# Dado el siguiente string, vamos a querer reemplazar todas las \"e\" por \"9\"\n",
    "txt = \"C++ es el mejor lenguaje. C++ mola!\"\n",
    "\n",
    "# llamamos al método  \"re.sub\"\n",
    "# lo primero que le pasamos es lo que queremos buscar, en este caso es sencillo, ya que queremos las \"e\"\n",
    "# después especificamos por que lo queremos reemplazar, en este caso por \"9\"\n",
    "# y por ultimo le pasamos el string sobre el que queremos hacer el reemplazo\n",
    "\n",
    "txt_9 = re.sub(\"e\", \"9\", txt)\n",
    "\n",
    "# si ahora vemos nuestro nuevo string, no deberíamos tener \"e\" y debería haber \"9\"\n",
    "print(\"El resultado es:\", txt_9)"
   ]
  },
  {
   "cell_type": "markdown",
   "metadata": {},
   "source": []
  },
  {
   "cell_type": "markdown",
   "metadata": {},
   "source": [
    "<span style = \"color : orange\" > Reemplazar C++ con Python"
   ]
  },
  {
   "cell_type": "code",
   "execution_count": 89,
   "metadata": {},
   "outputs": [
    {
     "data": {
      "text/plain": [
       "'Python es el mejor lenguaje. Python mola!'"
      ]
     },
     "execution_count": 89,
     "metadata": {},
     "output_type": "execute_result"
    }
   ],
   "source": [
    "# recordemos como era nuestro string\n",
    "txt = \"C++ es el mejor lenguaje. C++ mola!\"\n",
    "\n",
    "# ahora vamos a definir nuestro patrón, que nos sirva para reemplazar C++ por Pyhton. \n",
    "patron10 = r\"C\\+\\+\"\n",
    "\n",
    "txt_python= re.sub(patron10, \"Python\", txt)\n",
    "\n",
    "txt_python"
   ]
  },
  {
   "cell_type": "code",
   "execution_count": 72,
   "metadata": {},
   "outputs": [
    {
     "name": "stdout",
     "output_type": "stream",
     "text": [
      "el resultado de este método es: Python es el mejor lenguaje. Python mola!\n"
     ]
    }
   ],
   "source": [
    "# lo siguiente que hacemos es utilizar el método re.sub para hacer el reemplazo\n",
    "txt_python= re.sub(patron, \"Python\", txt)\n",
    "\n",
    "# veamos como nos quedo nuestro string ahora\n",
    "\n",
    "print(\"el resultado de este método es:\", txt_python)"
   ]
  },
  {
   "cell_type": "markdown",
   "metadata": {},
   "source": [
    "<span style = \"color : orange\" > Reemplazar espacio con con ,"
   ]
  },
  {
   "cell_type": "code",
   "execution_count": 73,
   "metadata": {},
   "outputs": [
    {
     "name": "stdout",
     "output_type": "stream",
     "text": [
      "La canción que teníamos es: Había una Vez un Barquito Chiquitito,   \n",
      "había una vez un barquito chiquitito,\n",
      "que no sabia, que no sabía , que no sabía navegar.\n",
      "\n",
      "Pasaron un, dos, tres,\n",
      "cuatro , cinco, seis semanas,\n",
      "pasaron 1, 2 , 3,\n",
      "4, 5 , 6 semanas,\n",
      "y aquel barquito y aquel barquito\n",
      "y aquel barquito navegó.\n",
      "La canción quitando los espacios Había una Vez un Barquito Chiquitito,   \n",
      "había una vez un barquito chiquitito,\n",
      "que no sabia, que no sabía, que no sabía navegar.\n",
      "\n",
      "Pasaron un, dos, tres,\n",
      "cuatro, cinco, seis semanas,\n",
      "pasaron 1, 2, 3,\n",
      "4, 5, 6 semanas,\n",
      "y aquel barquito y aquel barquito\n",
      "y aquel barquito navegó.\n"
     ]
    },
    {
     "name": "stderr",
     "output_type": "stream",
     "text": [
      "<>:3: SyntaxWarning: invalid escape sequence '\\s'\n",
      "<>:3: SyntaxWarning: invalid escape sequence '\\s'\n",
      "/var/folders/lf/ds7twms57fz01cjvl5qb9m9w0000gn/T/ipykernel_22934/4194021999.py:3: SyntaxWarning: invalid escape sequence '\\s'\n",
      "  patron2 = \"\\s,\"\n"
     ]
    }
   ],
   "source": [
    "# lo primero que hacemos es definir nuestro patrón. Recordemos que (si no nos acordamos no pasa nada, nos vamos a la cheatsheet que os pusimos al inicio de la lección) que para buscar los espacios tendremos que usar \\s\n",
    "# lo que vamos a querer buscar es algo que tenga un espacio seguido de una \",\"\n",
    "patron2 = \"\\s,\"\n",
    "\n",
    "# lo que estamos haciendo aquí es reemplazas las comas que tenían un espacio previo por comas sin espacio previo. \n",
    "cancion_espacios = re.sub(patron2, \",\", cancion)\n",
    "print(\"La canción que teníamos es:\",cancion)\n",
    "print(\"La canción quitando los espacios\", cancion_espacios)"
   ]
  },
  {
   "cell_type": "markdown",
   "metadata": {},
   "source": [
    "## `re.split()` \n",
    "\n",
    "La función `re.split()` es parte del módulo `re` de Python, que proporciona herramientas para trabajar con expresiones regulares. Esta función se utiliza para dividir una cadena en partes más pequeñas utilizando un patrón de expresión regular como separador, devolviendo una lista.\n",
    "\n",
    "Es similar al `split` que aprendimos de *strings*, solo que en este caso lo combinaremos con regex, dándonos más opciones para dividir. \n",
    "\n",
    "La sintaxis básica de `re.split` es: \n",
    "\n",
    "```python\n",
    "re.split(patron, string)\n",
    "\n",
    "```\n",
    "\n",
    "Basándonos en la imagen que tenemos a continuación:\n",
    "\n",
    "- **patron**: sería el patrón de regex que utilizaremos para dividir en partes más pequeñas nuestro *string*, en este caso `a`. \n",
    "\n",
    "- **string**: la cadena de texto que se va a dividir en partes más pequeñas, en este caso  `bbabbbab`. \n",
    "\n",
    "![split](https://github.com/Adalab/data_imagenes/blob/main/Modulo-1/python/re-split().png?raw=true)"
   ]
  },
  {
   "cell_type": "markdown",
   "metadata": {},
   "source": [
    "<span style = \"color : orange\" > Devidir un texto usando numero 22"
   ]
  },
  {
   "cell_type": "code",
   "execution_count": 74,
   "metadata": {},
   "outputs": [
    {
     "name": "stdout",
     "output_type": "stream",
     "text": [
      "El resultado de dividir nuestro string por el número que tenga dos doses: ['uno1dos', 'tres333cuatro']\n"
     ]
    }
   ],
   "source": [
    "# definimos un string\n",
    "s_nums = 'uno1dos22tres333cuatro'\n",
    "\n",
    "# en nuestro caso, como queremos dividirlo por el número \"22\", nuestro patrón será literal por lo que lo queremos dividir\n",
    "patron4 = \"2{2}\"\n",
    "\n",
    "# aplicamos el método split\n",
    "primera_division  = re.split(patron4, s_nums)\n",
    "print(\"El resultado de dividir nuestro string por el número que tenga dos doses:\", primera_division)"
   ]
  },
  {
   "cell_type": "markdown",
   "metadata": {},
   "source": [
    "<span style = \"color : orange\" > Limpiar un texto para que solo hay letras"
   ]
  },
  {
   "cell_type": "code",
   "execution_count": 90,
   "metadata": {},
   "outputs": [
    {
     "name": "stdout",
     "output_type": "stream",
     "text": [
      "El resultado de dividir nuestro string por cualquier símbolo: ['uno', 'dos', 't', 'es', 'cuat', 'o']\n"
     ]
    }
   ],
   "source": [
    "# definirmos el string\n",
    "marcas = 'uno-dos+tres#cuatro'\n",
    "\n",
    "# como siempre lo primero que hacemos es definir nuestro patrón. Os acordáis de los operadores \"[]\", esencialmente es una abreviatura de un \"|\", ya que nos va a permitir capturar todos los elementos que indiquemos entre los corchetes. Estos elementos que indiquemos, podrán estar o no. Recordad cuando lo hacíamos para capturar todas las mayúsuclas. \n",
    "patron6 = '[-#+r]'\n",
    "\n",
    "division_simbolos = re.split(patron6, marcas)\n",
    "print(\"El resultado de dividir nuestro string por cualquier símbolo:\", division_simbolos)\n"
   ]
  },
  {
   "cell_type": "markdown",
   "metadata": {},
   "source": [
    "## `re.match()` \n",
    "\n",
    "Este método se utiliza para buscar un patrón de expresión regular al principio de una cadena. **Este método va a devolver un objeto de tipo `re.Match`. \n",
    "\n",
    "\n",
    "Su sintaxis básica es: \n",
    "\n",
    "```python\n",
    "re.match(patron, string)\n",
    "```\n",
    "\n",
    "Básandonos en la imagen que tenemos a continuación: \n",
    "\n",
    "- **patron**: es el patron de expresión regular que se utilizará para hacer la búsqueda, en este caso `[A-Z]`. \n",
    "\n",
    "- **string**: es la cadena de texto en la cual se realizará la búsqueda, en este caso `Hola`.\n",
    "\n",
    "![match](https://github.com/Adalab/data_imagenes/blob/main/Modulo-1/python/re-match.png?raw=true)\n",
    "\n",
    "\n",
    "⚠️⚠️ **COSAS IMPORTANTES A TENER EN CUENTA CUANDO USAMOS ESTE MÉTODO** ⚠️⚠️\n",
    "\n",
    "- Solo nos va a devolver la primera coincidencia.\n",
    "\n",
    "- En caso de que tengamos un *string* multilínea, solo nos buscará en la primera línea. \n",
    "\n",
    "\n"
   ]
  },
  {
   "cell_type": "markdown",
   "metadata": {},
   "source": [
    "<span style = \"color : orange\" > Encontrar palabra regex en un texto!"
   ]
  },
  {
   "cell_type": "code",
   "execution_count": 76,
   "metadata": {},
   "outputs": [],
   "source": [
    "# supongamos que tenemos los siguientes strings\n",
    "\n",
    "\n",
    "string1 ='''Regex! En Adalab estamos aprendiendo regex !!!\n",
    "         Regex es muy útil para buscar patrones en nuestros strings.\n",
    "          Además es muy rápido.'''\n",
    "\n",
    "string2 ='''Esto es de locos !!!\n",
    "         regex es muy útil para buscar patrones en nuesrtos strings.\n",
    "          Ademas es muy rápido.'''\n",
    "\n",
    "\n",
    "# imaginamemos que queremos buscar la palabra \"regex\" o \"Regex\" dentro de nuestro string. Lo primero que tendremos que hacer es definir nuestro patrón. \n",
    "\n",
    "patron8 = r\"[reg|R]\\w+\""
   ]
  },
  {
   "cell_type": "markdown",
   "metadata": {},
   "source": [
    "Entendamos el patrón que hemos escrito: \n",
    "\n",
    "- Empezamos con `[r|R]`, con esto estamos buscando cualquier palabra que tenga la \"r\" o (`|`) \"R\"\n",
    "\n",
    "- Después tenemos `\\w+`, lo cual indica que queremos buscar cualquier \"r\" o \"R\" seguida de cualquier letra. "
   ]
  },
  {
   "cell_type": "code",
   "execution_count": 77,
   "metadata": {},
   "outputs": [
    {
     "name": "stdout",
     "output_type": "stream",
     "text": [
      "El resultado del método re.match buscando la palabra regex al primer string es: <re.Match object; span=(0, 5), match='Regex'>\n"
     ]
    }
   ],
   "source": [
    "# apliquemos el patrón sobre el primer string\n",
    "pat1 = re.match(patron8, string1)\n",
    "print(\"El resultado del método re.match buscando la palabra regex al primer string es:\", pat1)"
   ]
  },
  {
   "cell_type": "markdown",
   "metadata": {},
   "source": [
    "Genial! Nos ha devuelto cosas!!! Pero puede que nos las entendaís muy bien, no os preocupéis, ahora veremos en detenimiento que significa cada una de estas cosas. Pero antes de seguir, veamos que pasa si le aplicamos este mismo patrón al `string2` "
   ]
  },
  {
   "cell_type": "code",
   "execution_count": 78,
   "metadata": {},
   "outputs": [
    {
     "name": "stdout",
     "output_type": "stream",
     "text": [
      "El resultado del método re.match buscando la palabra regex al segundo string es: None\n"
     ]
    }
   ],
   "source": [
    "# apliquemos el patrón sobre el segundo string\n",
    "pat2 = re.match(patron8, string2)\n",
    "print(\"El resultado del método re.match buscando la palabra regex al segundo string es:\", pat2)"
   ]
  },
  {
   "cell_type": "markdown",
   "metadata": {},
   "source": [
    "## `re.search()`\n",
    "\n",
    "Es similar al `re.match` y se utiliza para buscar un patrón de expresión regular en toda la cadena. Al igual que el método `re.match()`, devuelve un objeto Match, pero al contrario que el `re.match`, este método va a buscar si hay una coincidencia en cualquier parte de la cadena.\n",
    "\n",
    "Su sintaxis básica es: \n",
    "\n",
    "```python\n",
    "re.search(patron, string)\n",
    "```\n",
    "\n",
    "Basándonos en la imagen que tenemos a continuación: \n",
    "\n",
    "\n",
    "- **patron**: es el patrón de expresión regular que se utilizará para hacer la búsqueda, en este caso `[A-Z]`. \n",
    "\n",
    "- **string**: es la cadena de texto en la cual se realizará la búsqueda, en este caso `Hola`\n",
    "\n",
    "\n",
    "\n",
    "\n",
    "![search](https://github.com/Adalab/data_imagenes/blob/main/Modulo-1/python/re-search.png?raw=true)\n",
    "\n",
    "⚠️⚠️ **COSAS IMPORTANTES DE ESTE MÉTODO** ⚠️⚠️\n",
    "\n",
    "- Como en el `re.match()`, solo nos devolverá la primera coincidencia.\n",
    "\n",
    "- Al contrario que el `re.match()` nos hará la búsqueda en **TODO** el *string*."
   ]
  },
  {
   "cell_type": "markdown",
   "metadata": {},
   "source": [
    "<span style = \"color : orange\" > Encontrar palabra regex en un texto! "
   ]
  },
  {
   "cell_type": "code",
   "execution_count": 79,
   "metadata": {},
   "outputs": [],
   "source": [
    "string1 ='''Regex! En Adalab estamos aprendiendo regex !!!\n",
    "         Regex es muy útil para buscar patrones en nuestros strings.\n",
    "          Además es muy rápido.'''\n",
    "\n",
    "string2 ='''Esto es de locos !!!\n",
    "         regex es muy útil para buscar patrones en nuesrtos strings.\n",
    "          Ademas es muy rápido.'''\n",
    "\n",
    "\n",
    "# imaginamemos que queremos buscar la palabra \"regex\" o \"Regex\" dentro de nuestro string. Lo primero que tendremos que hacer es definir nuestro patrón. \n",
    "\n",
    "patron8 = r\"[r|R]\\w+\""
   ]
  },
  {
   "cell_type": "code",
   "execution_count": 80,
   "metadata": {},
   "outputs": [
    {
     "name": "stdout",
     "output_type": "stream",
     "text": [
      "<re.Match object; span=(0, 5), match='Regex'>\n"
     ]
    }
   ],
   "source": [
    "# esta vez usamo search!\n",
    "\n",
    "print(re.search(patron8,string1))"
   ]
  },
  {
   "cell_type": "markdown",
   "metadata": {},
   "source": [
    "### <span style = \"color : green\">Resumen de métodos:\n",
    "\n",
    "\n",
    "|  método |donde nos busca   |qué nos devuelve  |\n",
    "|---|---|---|\n",
    "|**findall()**  |en todo el *string* | una lista con todas las coincidencias en nuestro *string* |\n",
    "|**search()**      |   en todo el *string*| un objeto con la primera coincidencia en nuestro *string*| \n",
    "|**match()**  | en la primera línea del *string*   | un objeto con la primera coincidencia en nuestro *string*  |\n",
    "|**split()**|en todo el *string*|una lista con los elementos separados por el patrón que especificaramos|\n",
    "|**sub()**|en todo el *string*| un *string* con el elemento que coincide| "
   ]
  },
  {
   "cell_type": "markdown",
   "metadata": {},
   "source": [
    "----------------\n",
    "# Ejercicios\n",
    "\n",
    "Mirar la página de [regexone](https://regexone.com/).\n",
    "\n"
   ]
  },
  {
   "cell_type": "code",
   "execution_count": null,
   "metadata": {},
   "outputs": [],
   "source": []
  }
 ],
 "metadata": {
  "kernelspec": {
   "display_name": "Python 3 (ipykernel)",
   "language": "python",
   "name": "python3"
  },
  "language_info": {
   "codemirror_mode": {
    "name": "ipython",
    "version": 3
   },
   "file_extension": ".py",
   "mimetype": "text/x-python",
   "name": "python",
   "nbconvert_exporter": "python",
   "pygments_lexer": "ipython3",
   "version": "3.12.2"
  },
  "toc": {
   "base_numbering": 1,
   "nav_menu": {},
   "number_sections": true,
   "sideBar": true,
   "skip_h1_title": false,
   "title_cell": "Table of Contents",
   "title_sidebar": "Contents",
   "toc_cell": true,
   "toc_position": {},
   "toc_section_display": true,
   "toc_window_display": false
  },
  "vscode": {
   "interpreter": {
    "hash": "31f2aee4e71d21fbe5cf8b01ff0e069b9275f58929596ceb00d14d90e3e16cd6"
   }
  }
 },
 "nbformat": 4,
 "nbformat_minor": 2
}
