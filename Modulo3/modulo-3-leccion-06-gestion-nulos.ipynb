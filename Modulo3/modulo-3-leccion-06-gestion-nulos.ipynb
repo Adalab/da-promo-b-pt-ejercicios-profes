{
 "cells": [
  {
   "cell_type": "code",
   "execution_count": 1,
   "metadata": {},
   "outputs": [],
   "source": [
    "# antes de empezar la lección tendremos que instalarunas librerías. Para ello tendreis que descomentar (una a una) la linea de abajo y ejecutar la celda\n",
    "#!pip install scikit-learn\n",
    "#!pip install seaborn\n",
    "#!pip install matplotlib"
   ]
  },
  {
   "cell_type": "code",
   "execution_count": 1,
   "metadata": {},
   "outputs": [],
   "source": [
    "# importamos las librerías que necesitamos\n",
    "\n",
    "# Tratamiento de datos\n",
    "# -----------------------------------------------------------------------\n",
    "import pandas as pd\n",
    "import numpy as np\n",
    "\n",
    "# Librerías de visualización\n",
    "# -----------------------------------------------------------------------\n",
    "import seaborn as sns\n",
    "import matplotlib.pyplot as plt\n",
    "\n",
    "# Imputación de nulos usando métodos avanzados estadísticos\n",
    "# -----------------------------------------------------------------------\n",
    "from sklearn.impute import SimpleImputer\n",
    "from sklearn.experimental import enable_iterative_imputer\n",
    "from sklearn.impute import IterativeImputer\n",
    "from sklearn.impute import KNNImputer\n",
    "\n",
    "\n",
    "# Configuración\n",
    "# -----------------------------------------------------------------------\n",
    "pd.set_option('display.max_columns', None) # para poder visualizar todas las columnas de los DataFrames"
   ]
  },
  {
   "cell_type": "code",
   "execution_count": 2,
   "metadata": {},
   "outputs": [
    {
     "data": {
      "text/html": [
       "<div>\n",
       "<style scoped>\n",
       "    .dataframe tbody tr th:only-of-type {\n",
       "        vertical-align: middle;\n",
       "    }\n",
       "\n",
       "    .dataframe tbody tr th {\n",
       "        vertical-align: top;\n",
       "    }\n",
       "\n",
       "    .dataframe thead th {\n",
       "        text-align: right;\n",
       "    }\n",
       "</style>\n",
       "<table border=\"1\" class=\"dataframe\">\n",
       "  <thead>\n",
       "    <tr style=\"text-align: right;\">\n",
       "      <th></th>\n",
       "      <th>income</th>\n",
       "      <th>kidhome</th>\n",
       "      <th>teenhome</th>\n",
       "      <th>dt_customer</th>\n",
       "      <th>numwebvisitsmonth</th>\n",
       "      <th>id</th>\n",
       "      <th>age</th>\n",
       "      <th>job</th>\n",
       "      <th>marital</th>\n",
       "      <th>education</th>\n",
       "      <th>default</th>\n",
       "      <th>housing</th>\n",
       "      <th>loan</th>\n",
       "      <th>contact</th>\n",
       "      <th>duration</th>\n",
       "      <th>campaign</th>\n",
       "      <th>pdays</th>\n",
       "      <th>previous</th>\n",
       "      <th>poutcome</th>\n",
       "      <th>empvarrate</th>\n",
       "      <th>conspriceidx</th>\n",
       "      <th>consconfidx</th>\n",
       "      <th>euribor3m</th>\n",
       "      <th>nremployed</th>\n",
       "      <th>y</th>\n",
       "      <th>date</th>\n",
       "      <th>latitude</th>\n",
       "      <th>longitude</th>\n",
       "      <th>contact_month</th>\n",
       "      <th>contact_year</th>\n",
       "    </tr>\n",
       "  </thead>\n",
       "  <tbody>\n",
       "    <tr>\n",
       "      <th>0</th>\n",
       "      <td>161770.0</td>\n",
       "      <td>1.0</td>\n",
       "      <td>0.0</td>\n",
       "      <td>2012-04-04</td>\n",
       "      <td>29.0</td>\n",
       "      <td>089b39d8-e4d0-461b-87d4-814d71e0e079</td>\n",
       "      <td>NaN</td>\n",
       "      <td>housemaid</td>\n",
       "      <td>married</td>\n",
       "      <td>basic 4y</td>\n",
       "      <td>0.0</td>\n",
       "      <td>0.0</td>\n",
       "      <td>0.0</td>\n",
       "      <td>telephone</td>\n",
       "      <td>261</td>\n",
       "      <td>1</td>\n",
       "      <td>999</td>\n",
       "      <td>0</td>\n",
       "      <td>nonexistent</td>\n",
       "      <td>1.1</td>\n",
       "      <td>93,994</td>\n",
       "      <td>-36,4</td>\n",
       "      <td>4,857</td>\n",
       "      <td>5191</td>\n",
       "      <td>no</td>\n",
       "      <td>2-agosto-2019</td>\n",
       "      <td>41.495</td>\n",
       "      <td>-71.233</td>\n",
       "      <td>agosto</td>\n",
       "      <td>2019.0</td>\n",
       "    </tr>\n",
       "    <tr>\n",
       "      <th>1</th>\n",
       "      <td>85477.0</td>\n",
       "      <td>1.0</td>\n",
       "      <td>1.0</td>\n",
       "      <td>2012-12-30</td>\n",
       "      <td>7.0</td>\n",
       "      <td>e9d37224-cb6f-4942-98d7-46672963d097</td>\n",
       "      <td>57.0</td>\n",
       "      <td>services</td>\n",
       "      <td>married</td>\n",
       "      <td>high school</td>\n",
       "      <td>NaN</td>\n",
       "      <td>0.0</td>\n",
       "      <td>0.0</td>\n",
       "      <td>telephone</td>\n",
       "      <td>149</td>\n",
       "      <td>1</td>\n",
       "      <td>999</td>\n",
       "      <td>0</td>\n",
       "      <td>nonexistent</td>\n",
       "      <td>1.1</td>\n",
       "      <td>93,994</td>\n",
       "      <td>-36,4</td>\n",
       "      <td>NaN</td>\n",
       "      <td>5191</td>\n",
       "      <td>no</td>\n",
       "      <td>14-septiembre-2016</td>\n",
       "      <td>34.601</td>\n",
       "      <td>-83.923</td>\n",
       "      <td>septiembre</td>\n",
       "      <td>2016.0</td>\n",
       "    </tr>\n",
       "    <tr>\n",
       "      <th>2</th>\n",
       "      <td>147233.0</td>\n",
       "      <td>1.0</td>\n",
       "      <td>1.0</td>\n",
       "      <td>2012-02-02</td>\n",
       "      <td>5.0</td>\n",
       "      <td>3f9f49b5-e410-4948-bf6e-f9244f04918b</td>\n",
       "      <td>37.0</td>\n",
       "      <td>services</td>\n",
       "      <td>married</td>\n",
       "      <td>high school</td>\n",
       "      <td>0.0</td>\n",
       "      <td>1.0</td>\n",
       "      <td>0.0</td>\n",
       "      <td>telephone</td>\n",
       "      <td>226</td>\n",
       "      <td>1</td>\n",
       "      <td>999</td>\n",
       "      <td>0</td>\n",
       "      <td>nonexistent</td>\n",
       "      <td>1.1</td>\n",
       "      <td>93,994</td>\n",
       "      <td>-36,4</td>\n",
       "      <td>4,857</td>\n",
       "      <td>5191</td>\n",
       "      <td>no</td>\n",
       "      <td>15-febrero-2019</td>\n",
       "      <td>34.939</td>\n",
       "      <td>-94.847</td>\n",
       "      <td>febrero</td>\n",
       "      <td>2019.0</td>\n",
       "    </tr>\n",
       "    <tr>\n",
       "      <th>3</th>\n",
       "      <td>121393.0</td>\n",
       "      <td>1.0</td>\n",
       "      <td>2.0</td>\n",
       "      <td>2012-12-21</td>\n",
       "      <td>29.0</td>\n",
       "      <td>9991fafb-4447-451a-8be2-b0df6098d13e</td>\n",
       "      <td>40.0</td>\n",
       "      <td>admin.</td>\n",
       "      <td>married</td>\n",
       "      <td>basic 6y</td>\n",
       "      <td>0.0</td>\n",
       "      <td>0.0</td>\n",
       "      <td>0.0</td>\n",
       "      <td>telephone</td>\n",
       "      <td>151</td>\n",
       "      <td>1</td>\n",
       "      <td>999</td>\n",
       "      <td>0</td>\n",
       "      <td>nonexistent</td>\n",
       "      <td>1.1</td>\n",
       "      <td>93,994</td>\n",
       "      <td>-36,4</td>\n",
       "      <td>NaN</td>\n",
       "      <td>5191</td>\n",
       "      <td>no</td>\n",
       "      <td>29-noviembre-2015</td>\n",
       "      <td>49.041</td>\n",
       "      <td>-70.308</td>\n",
       "      <td>noviembre</td>\n",
       "      <td>2015.0</td>\n",
       "    </tr>\n",
       "    <tr>\n",
       "      <th>4</th>\n",
       "      <td>63164.0</td>\n",
       "      <td>1.0</td>\n",
       "      <td>2.0</td>\n",
       "      <td>2012-06-20</td>\n",
       "      <td>20.0</td>\n",
       "      <td>eca60b76-70b6-4077-80ba-bc52e8ebb0eb</td>\n",
       "      <td>56.0</td>\n",
       "      <td>services</td>\n",
       "      <td>married</td>\n",
       "      <td>high school</td>\n",
       "      <td>0.0</td>\n",
       "      <td>0.0</td>\n",
       "      <td>1.0</td>\n",
       "      <td>telephone</td>\n",
       "      <td>307</td>\n",
       "      <td>1</td>\n",
       "      <td>999</td>\n",
       "      <td>0</td>\n",
       "      <td>nonexistent</td>\n",
       "      <td>1.1</td>\n",
       "      <td>93,994</td>\n",
       "      <td>-36,4</td>\n",
       "      <td>NaN</td>\n",
       "      <td>5191</td>\n",
       "      <td>no</td>\n",
       "      <td>29-enero-2017</td>\n",
       "      <td>38.033</td>\n",
       "      <td>-104.463</td>\n",
       "      <td>enero</td>\n",
       "      <td>2017.0</td>\n",
       "    </tr>\n",
       "  </tbody>\n",
       "</table>\n",
       "</div>"
      ],
      "text/plain": [
       "     income  kidhome  teenhome dt_customer  numwebvisitsmonth  \\\n",
       "0  161770.0      1.0       0.0  2012-04-04               29.0   \n",
       "1   85477.0      1.0       1.0  2012-12-30                7.0   \n",
       "2  147233.0      1.0       1.0  2012-02-02                5.0   \n",
       "3  121393.0      1.0       2.0  2012-12-21               29.0   \n",
       "4   63164.0      1.0       2.0  2012-06-20               20.0   \n",
       "\n",
       "                                     id   age        job  marital  \\\n",
       "0  089b39d8-e4d0-461b-87d4-814d71e0e079   NaN  housemaid  married   \n",
       "1  e9d37224-cb6f-4942-98d7-46672963d097  57.0   services  married   \n",
       "2  3f9f49b5-e410-4948-bf6e-f9244f04918b  37.0   services  married   \n",
       "3  9991fafb-4447-451a-8be2-b0df6098d13e  40.0     admin.  married   \n",
       "4  eca60b76-70b6-4077-80ba-bc52e8ebb0eb  56.0   services  married   \n",
       "\n",
       "     education  default  housing  loan    contact  duration  campaign  pdays  \\\n",
       "0     basic 4y      0.0      0.0   0.0  telephone       261         1    999   \n",
       "1  high school      NaN      0.0   0.0  telephone       149         1    999   \n",
       "2  high school      0.0      1.0   0.0  telephone       226         1    999   \n",
       "3     basic 6y      0.0      0.0   0.0  telephone       151         1    999   \n",
       "4  high school      0.0      0.0   1.0  telephone       307         1    999   \n",
       "\n",
       "   previous     poutcome  empvarrate conspriceidx consconfidx euribor3m  \\\n",
       "0         0  nonexistent         1.1       93,994       -36,4     4,857   \n",
       "1         0  nonexistent         1.1       93,994       -36,4       NaN   \n",
       "2         0  nonexistent         1.1       93,994       -36,4     4,857   \n",
       "3         0  nonexistent         1.1       93,994       -36,4       NaN   \n",
       "4         0  nonexistent         1.1       93,994       -36,4       NaN   \n",
       "\n",
       "  nremployed   y                date  latitude  longitude contact_month  \\\n",
       "0       5191  no       2-agosto-2019    41.495    -71.233        agosto   \n",
       "1       5191  no  14-septiembre-2016    34.601    -83.923    septiembre   \n",
       "2       5191  no     15-febrero-2019    34.939    -94.847       febrero   \n",
       "3       5191  no   29-noviembre-2015    49.041    -70.308     noviembre   \n",
       "4       5191  no       29-enero-2017    38.033   -104.463         enero   \n",
       "\n",
       "   contact_year  \n",
       "0        2019.0  \n",
       "1        2016.0  \n",
       "2        2019.0  \n",
       "3        2015.0  \n",
       "4        2017.0  "
      ]
     },
     "execution_count": 2,
     "metadata": {},
     "output_type": "execute_result"
    }
   ],
   "source": [
    "# traemos los datos que guardamos en el tema anterior.\n",
    "\n",
    "df = pd.read_csv(\"./files/bank-additional_full.csv\")\n",
    "df.head()"
   ]
  },
  {
   "cell_type": "markdown",
   "metadata": {},
   "source": [
    "# Metodos para identificar los nulos: \n",
    "- Identificacion Visual   \n",
    "- Pandas: isnull(), isNa()"
   ]
  },
  {
   "cell_type": "code",
   "execution_count": 3,
   "metadata": {},
   "outputs": [
    {
     "name": "stdout",
     "output_type": "stream",
     "text": [
      "<class 'pandas.core.frame.DataFrame'>\n",
      "RangeIndex: 43000 entries, 0 to 42999\n",
      "Data columns (total 30 columns):\n",
      " #   Column             Non-Null Count  Dtype  \n",
      "---  ------             --------------  -----  \n",
      " 0   income             43000 non-null  float64\n",
      " 1   kidhome            43000 non-null  float64\n",
      " 2   teenhome           43000 non-null  float64\n",
      " 3   dt_customer        43000 non-null  object \n",
      " 4   numwebvisitsmonth  43000 non-null  float64\n",
      " 5   id                 43000 non-null  object \n",
      " 6   age                37880 non-null  float64\n",
      " 7   job                42655 non-null  object \n",
      " 8   marital            42915 non-null  object \n",
      " 9   education          41193 non-null  object \n",
      " 10  default            34019 non-null  float64\n",
      " 11  housing            41974 non-null  float64\n",
      " 12  loan               41974 non-null  float64\n",
      " 13  contact            43000 non-null  object \n",
      " 14  duration           43000 non-null  int64  \n",
      " 15  campaign           43000 non-null  int64  \n",
      " 16  pdays              43000 non-null  int64  \n",
      " 17  previous           43000 non-null  int64  \n",
      " 18  poutcome           43000 non-null  object \n",
      " 19  empvarrate         43000 non-null  float64\n",
      " 20  conspriceidx       42529 non-null  object \n",
      " 21  consconfidx        43000 non-null  object \n",
      " 22  euribor3m          33744 non-null  object \n",
      " 23  nremployed         43000 non-null  object \n",
      " 24  y                  43000 non-null  object \n",
      " 25  date               42752 non-null  object \n",
      " 26  latitude           43000 non-null  float64\n",
      " 27  longitude          43000 non-null  float64\n",
      " 28  contact_month      42752 non-null  object \n",
      " 29  contact_year       42752 non-null  float64\n",
      "dtypes: float64(12), int64(4), object(14)\n",
      "memory usage: 9.8+ MB\n"
     ]
    }
   ],
   "source": [
    "df.info()"
   ]
  },
  {
   "cell_type": "code",
   "execution_count": 5,
   "metadata": {},
   "outputs": [
    {
     "data": {
      "text/plain": [
       "age              5120\n",
       "job               345\n",
       "marital            85\n",
       "education        1807\n",
       "default          8981\n",
       "housing          1026\n",
       "loan             1026\n",
       "conspriceidx      471\n",
       "euribor3m        9256\n",
       "date              248\n",
       "contact_month     248\n",
       "contact_year      248\n",
       "dtype: int64"
      ]
     },
     "execution_count": 5,
     "metadata": {},
     "output_type": "execute_result"
    }
   ],
   "source": [
    "df.isnull().sum()[df.isnull().sum() > 0]"
   ]
  },
  {
   "cell_type": "code",
   "execution_count": null,
   "metadata": {},
   "outputs": [],
   "source": [
    "## ¿Cómo yo trato estos datos nulos?\n",
    "\n",
    "# ** Elimino la columna con muchos nulos?\n",
    "#** Depende de donde sale los datos\n",
    "#** No tomarlo en cuenta \n",
    "#** Ponerle el promedio, un valor fijo, mediana, moda, etc --> IMPUTAR\n",
    "#** Entender el contexto de los datos\n",
    "\n",
    "#1. Eliminar los datos nulos\n",
    "#2. Imputar los datos nulos\n",
    "#3. Dejar los nulos\n",
    "\n",
    "### Eliminar nulos ¿los elimino o no?\n",
    "##- Si la informacion es relevante o no\n",
    "##- Depende de cuantos nulos tenga, alto porcentaje de nulos , y la informacion no es relevante lo elimino\n",
    "##- Si tengo un bajo porcentaje de nulos, y la informacion es relevante, no lo elimino\n",
    "\n"
   ]
  },
  {
   "cell_type": "code",
   "execution_count": 8,
   "metadata": {},
   "outputs": [
    {
     "data": {
      "text/plain": [
       "(43000, 30)"
      ]
     },
     "execution_count": 8,
     "metadata": {},
     "output_type": "execute_result"
    }
   ],
   "source": [
    "df.shape"
   ]
  },
  {
   "cell_type": "code",
   "execution_count": 7,
   "metadata": {},
   "outputs": [
    {
     "data": {
      "text/plain": [
       "age              11.906977\n",
       "job               0.802326\n",
       "marital           0.197674\n",
       "education         4.202326\n",
       "default          20.886047\n",
       "housing           2.386047\n",
       "loan              2.386047\n",
       "conspriceidx      1.095349\n",
       "euribor3m        21.525581\n",
       "date              0.576744\n",
       "contact_month     0.576744\n",
       "contact_year      0.576744\n",
       "dtype: float64"
      ]
     },
     "execution_count": 7,
     "metadata": {},
     "output_type": "execute_result"
    }
   ],
   "source": [
    "# -----------------------------------------------------------------------\n",
    "df.isnull().sum()[df.isnull().sum() > 0]/df.shape[0]*100\n",
    "# Análisis de la edad : decidir que no la eliminamos porque es relevante para el análisis\n",
    "# Análisis de la variable default no es relevante, tiene un 20% de nulos y la eliminamos"
   ]
  },
  {
   "cell_type": "code",
   "execution_count": null,
   "metadata": {},
   "outputs": [],
   "source": [
    "# Eliminar todo los nulos del conjunto de datos\n",
    "df_clean = df.dropna()\n",
    "\n",
    "# Eliminar una columna con nulos\n",
    "df_clean = df.drop(columns='default')"
   ]
  },
  {
   "cell_type": "code",
   "execution_count": 9,
   "metadata": {},
   "outputs": [
    {
     "data": {
      "text/plain": [
       "Index(['dt_customer', 'id', 'job', 'marital', 'education', 'contact',\n",
       "       'poutcome', 'conspriceidx', 'consconfidx', 'euribor3m', 'nremployed',\n",
       "       'y', 'date', 'contact_month'],\n",
       "      dtype='object')"
      ]
     },
     "execution_count": 9,
     "metadata": {},
     "output_type": "execute_result"
    }
   ],
   "source": [
    "# SINO ELIMINO LOS NULOS, TENGO QUE IMPUTARLOS (rellenar los nulos)\n",
    "\n",
    "## Imputacion simple: reemplazar los valores nulos con un valor especifico: media, mediana, moda, o un valor fijo (segun contexto)\n",
    "# media: distribución simetrica y sin outliers, variables numericas\n",
    "# mediana: distribución asimetrica y con outliers, variables numericas\n",
    "# moda: variable categorica\n",
    "\n",
    "var_categorical = df.select_dtypes(include='object').columns\n",
    "var_categorical\n"
   ]
  },
  {
   "cell_type": "code",
   "execution_count": 10,
   "metadata": {},
   "outputs": [
    {
     "data": {
      "text/plain": [
       "Index(['income', 'kidhome', 'teenhome', 'numwebvisitsmonth', 'age', 'default',\n",
       "       'housing', 'loan', 'duration', 'campaign', 'pdays', 'previous',\n",
       "       'empvarrate', 'latitude', 'longitude', 'contact_year'],\n",
       "      dtype='object')"
      ]
     },
     "execution_count": 10,
     "metadata": {},
     "output_type": "execute_result"
    }
   ],
   "source": [
    "var_numerical = df.select_dtypes(include= np.number).columns\n",
    "var_numerical"
   ]
  },
  {
   "cell_type": "code",
   "execution_count": null,
   "metadata": {},
   "outputs": [],
   "source": [
    "## imputar la edad\n",
    "# media\n",
    "media_age = df['age'].mean(); \n",
    "df['age'] = df ['age'].fillna(25) # reemplazar los nulos con la media\n",
    "df.head()\n",
    "\n"
   ]
  },
  {
   "cell_type": "code",
   "execution_count": null,
   "metadata": {},
   "outputs": [],
   "source": [
    "# imputar el euribor , vamos usar un valor especifico, a crear un nuevo valor\n",
    "df['euribor3m'] = df['euribor3m'].fillna(\"unknown\")"
   ]
  },
  {
   "cell_type": "code",
   "execution_count": 13,
   "metadata": {},
   "outputs": [],
   "source": [
    "# Algoritimo SimpleImputer\n",
    "imputer = SimpleImputer(strategy='mean')\n",
    "imputar_age = imputer.fit_transform(df[['age']])\n",
    "df['age'] = imputar_age\n"
   ]
  },
  {
   "cell_type": "code",
   "execution_count": null,
   "metadata": {},
   "outputs": [],
   "source": [
    "## Imputacion avanzada\n",
    "# KNNImputer\n",
    "# IterativeImputer \n",
    "\n",
    "# IterativeImputer()\n",
    "imputer = IterativeImputer(max_iter=10, random_state=42)\n",
    "imputar_age = imputer.fit_transform(df[['age']])\n",
    "df['age'] = imputar_age"
   ]
  },
  {
   "cell_type": "code",
   "execution_count": null,
   "metadata": {},
   "outputs": [],
   "source": [
    "## KNNImputer\n",
    "imputer = KNNImputer(n_neighbors=5)\n",
    "imputar_age = imputer.fit_transform(df[['age']])\n",
    "df['age'] = imputar_age\n"
   ]
  }
 ],
 "metadata": {
  "kernelspec": {
   "display_name": "base",
   "language": "python",
   "name": "python3"
  },
  "language_info": {
   "codemirror_mode": {
    "name": "ipython",
    "version": 3
   },
   "file_extension": ".py",
   "mimetype": "text/x-python",
   "name": "python",
   "nbconvert_exporter": "python",
   "pygments_lexer": "ipython3",
   "version": "3.9.7"
  }
 },
 "nbformat": 4,
 "nbformat_minor": 2
}
