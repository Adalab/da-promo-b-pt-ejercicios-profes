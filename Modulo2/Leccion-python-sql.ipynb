{
 "cells": [
  {
   "cell_type": "markdown",
   "metadata": {},
   "source": [
    "## SQL en conjunción con Python para extracción de datos"
   ]
  },
  {
   "cell_type": "markdown",
   "metadata": {},
   "source": [
    "### Conexion\n",
    "connect()\n",
    "\n",
    "1. Ejecuta `pip install mysql-connector`.\n",
    "\n",
    "2. Luego, ejecuta `pip install mysql-connector-python`."
   ]
  },
  {
   "cell_type": "code",
   "execution_count": 10,
   "metadata": {},
   "outputs": [
    {
     "name": "stdout",
     "output_type": "stream",
     "text": [
      "True\n"
     ]
    }
   ],
   "source": [
    "import mysql.connector\n",
    "\n",
    "cnx = mysql.connector.connect(user = \"root\", password = \"AlumnaAdalab\", host =\"127.0.0.1\", database = \"tienda\")\n",
    "\n",
    "print(cnx.is_connected())\n",
    "\n"
   ]
  },
  {
   "cell_type": "markdown",
   "metadata": {},
   "source": [
    "#### Metodo Cursor para poder escribir SQL en Python\n",
    "\n"
   ]
  },
  {
   "cell_type": "code",
   "execution_count": null,
   "metadata": {},
   "outputs": [],
   "source": [
    "cnx = mysql.connector.connect(user = \"root\", password = \"AlumnaAdalab\", host =\"127.0.0.1\", database = \"tienda\")\n",
    "\n",
    "mycursor = cnx.cursor()\n",
    "\n",
    "query = (\"SELECT * FROM customers\")\n",
    "\n",
    "mycursor.execute(query)\n",
    "\n",
    "\n",
    "mycursor.execute(query)\n",
    "\n",
    "\n",
    "\n"
   ]
  },
  {
   "cell_type": "code",
   "execution_count": null,
   "metadata": {},
   "outputs": [],
   "source": [
    "for x in mycursor:\n",
    "    print(x)"
   ]
  },
  {
   "cell_type": "markdown",
   "metadata": {},
   "source": [
    "#### Crear un base de datos\n",
    "\n"
   ]
  },
  {
   "cell_type": "code",
   "execution_count": 14,
   "metadata": {},
   "outputs": [
    {
     "name": "stdout",
     "output_type": "stream",
     "text": [
      "MySQLCursor: CREATE SCHEMA python_test\n"
     ]
    }
   ],
   "source": [
    "cnx = mysql.connector.connect(user = \"root\", password = \"AlumnaAdalab\", host =\"127.0.0.1\")\n",
    "\n",
    "mycursor = cnx.cursor()\n",
    "\n",
    "query = (\"CREATE SCHEMA python_test\")\n",
    "\n",
    "mycursor.execute(query)\n",
    "\n",
    "print(mycursor)"
   ]
  },
  {
   "cell_type": "code",
   "execution_count": 15,
   "metadata": {},
   "outputs": [
    {
     "name": "stdout",
     "output_type": "stream",
     "text": [
      "MySQLCursor: CREATE TABLE customers (name VARCHAR(10)..\n"
     ]
    }
   ],
   "source": [
    "#### Crear una tabla\n",
    "\n",
    "cnx = mysql.connector.connect(user = \"root\", password = \"AlumnaAdalab\", host =\"127.0.0.1\", database = \"python_test\")\n",
    "\n",
    "mycursor = cnx.cursor()\n",
    "\n",
    "query = (\"CREATE TABLE customers (name VARCHAR(10), address VARCHAR(300))\")\n",
    "\n",
    "mycursor.execute(query)\n",
    "\n",
    "print(mycursor)"
   ]
  },
  {
   "cell_type": "markdown",
   "metadata": {},
   "source": [
    "#### Insertar una fila en la tabla"
   ]
  },
  {
   "cell_type": "code",
   "execution_count": 16,
   "metadata": {},
   "outputs": [
    {
     "name": "stdout",
     "output_type": "stream",
     "text": [
      "MySQLCursor: INSERT INTO customers (name,address) VAL..\n"
     ]
    }
   ],
   "source": [
    "cnx = mysql.connector.connect(user = \"root\", password = \"AlumnaAdalab\", host =\"127.0.0.1\", database = \"python_test\")\n",
    "\n",
    "mycursor = cnx.cursor()\n",
    "\n",
    "sql = \"INSERT INTO customers (name,address) VALUES(%s,%s)\"\n",
    "val = (\"Ana\",\"Calle1\")\n",
    "\n",
    "mycursor.execute(sql,val)\n",
    "\n",
    "print(mycursor)"
   ]
  },
  {
   "cell_type": "markdown",
   "metadata": {},
   "source": [
    "#### Insertar mas fials en la table"
   ]
  },
  {
   "cell_type": "code",
   "execution_count": 19,
   "metadata": {},
   "outputs": [
    {
     "name": "stdout",
     "output_type": "stream",
     "text": [
      "MySQLCursor: INSERT INTO customers (name,address) VAL..\n"
     ]
    }
   ],
   "source": [
    "cnx = mysql.connector.connect(user = \"root\", password = \"AlumnaAdalab\", host =\"127.0.0.1\", database = \"python_test\")\n",
    "\n",
    "mycursor = cnx.cursor()\n",
    "\n",
    "sql = \"INSERT INTO customers (name,address) VALUES(%s,%s)\"\n",
    "\n",
    "val = [(\"Maria\",\"Calle1\"),(\"Elena\",\"Calle3\"),(\"Ana\",\"Calle4\")]\n",
    "\n",
    "mycursor.executemany(sql,val)\n",
    "cnx.commit()\n",
    "print(mycursor)"
   ]
  },
  {
   "cell_type": "markdown",
   "metadata": {},
   "source": [
    "####  Acceder los datos con metodos fetchone y fetchall\n",
    "\n"
   ]
  },
  {
   "cell_type": "code",
   "execution_count": 20,
   "metadata": {},
   "outputs": [
    {
     "name": "stdout",
     "output_type": "stream",
     "text": [
      "[('Maria', 'Calle1'), ('Elena', 'Calle3'), ('Ana', 'Calle4')]\n"
     ]
    }
   ],
   "source": [
    "cnx = mysql.connector.connect(user = \"root\", password = \"AlumnaAdalab\", host =\"127.0.0.1\", database = \"python_test\")\n",
    "\n",
    "mycursor = cnx.cursor()\n",
    "\n",
    "query = \"SELECT * FROM customers\"\n",
    "\n",
    "\n",
    "mycursor.execute(query)\n",
    "\n",
    "myresults = mycursor.fetchall()\n",
    "\n",
    "print(myresults)\n",
    "\n"
   ]
  },
  {
   "cell_type": "markdown",
   "metadata": {},
   "source": [
    "### Integracion de resultados con Pandas"
   ]
  },
  {
   "cell_type": "markdown",
   "metadata": {},
   "source": [
    "#### DateFrame\n"
   ]
  },
  {
   "cell_type": "code",
   "execution_count": 22,
   "metadata": {},
   "outputs": [],
   "source": [
    "import pandas as pd"
   ]
  },
  {
   "cell_type": "code",
   "execution_count": 25,
   "metadata": {},
   "outputs": [
    {
     "name": "stdout",
     "output_type": "stream",
     "text": [
      "  nombre direccion\n",
      "0  Maria    Calle1\n",
      "1  Elena    Calle3\n",
      "2    Ana    Calle4\n"
     ]
    }
   ],
   "source": [
    "cnx = mysql.connector.connect(user = \"root\", password = \"AlumnaAdalab\", host =\"127.0.0.1\", database = \"python_test\")\n",
    "\n",
    "mycursor = cnx.cursor()\n",
    "\n",
    "query = \"SELECT * FROM customers\"\n",
    "\n",
    "\n",
    "mycursor.execute(query)\n",
    "\n",
    "myresults = mycursor.fetchall()\n",
    "\n",
    "df = pd.DataFrame(myresults, columns = [\"nombre\",\"direccion\"])\n",
    "print(df)"
   ]
  },
  {
   "cell_type": "markdown",
   "metadata": {},
   "source": []
  },
  {
   "cell_type": "markdown",
   "metadata": {},
   "source": [
    "#### Metodo read_sql_query\n",
    "\n",
    "\n"
   ]
  },
  {
   "cell_type": "code",
   "execution_count": 27,
   "metadata": {},
   "outputs": [
    {
     "name": "stdout",
     "output_type": "stream",
     "text": [
      "    name address\n",
      "0  Maria  Calle1\n",
      "1  Elena  Calle3\n",
      "2    Ana  Calle4\n"
     ]
    },
    {
     "name": "stderr",
     "output_type": "stream",
     "text": [
      "/var/folders/lf/ds7twms57fz01cjvl5qb9m9w0000gn/T/ipykernel_9067/2535430019.py:5: UserWarning: pandas only supports SQLAlchemy connectable (engine/connection) or database string URI or sqlite3 DBAPI2 connection. Other DBAPI2 objects are not tested. Please consider using SQLAlchemy.\n",
      "  df1 = pd.read_sql_query(query,cnx)\n"
     ]
    }
   ],
   "source": [
    "cnx = mysql.connector.connect(user = \"root\", password = \"AlumnaAdalab\", host =\"127.0.0.1\", database = \"python_test\")\n",
    "\n",
    "query = \"SELECT * FROM customers\"\n",
    "\n",
    "df1 = pd.read_sql_query(query,cnx)\n",
    "\n",
    "print(df1)"
   ]
  },
  {
   "cell_type": "markdown",
   "metadata": {},
   "source": [
    "#### Guardar datos\n",
    "\n"
   ]
  },
  {
   "cell_type": "code",
   "execution_count": 34,
   "metadata": {},
   "outputs": [
    {
     "name": "stderr",
     "output_type": "stream",
     "text": [
      "/var/folders/lf/ds7twms57fz01cjvl5qb9m9w0000gn/T/ipykernel_9067/1407544238.py:5: UserWarning: pandas only supports SQLAlchemy connectable (engine/connection) or database string URI or sqlite3 DBAPI2 connection. Other DBAPI2 objects are not tested. Please consider using SQLAlchemy.\n",
      "  df2 = pd.read_sql_query(query,cnx)\n"
     ]
    },
    {
     "data": {
      "text/html": [
       "<div>\n",
       "<style scoped>\n",
       "    .dataframe tbody tr th:only-of-type {\n",
       "        vertical-align: middle;\n",
       "    }\n",
       "\n",
       "    .dataframe tbody tr th {\n",
       "        vertical-align: top;\n",
       "    }\n",
       "\n",
       "    .dataframe thead th {\n",
       "        text-align: right;\n",
       "    }\n",
       "</style>\n",
       "<table border=\"1\" class=\"dataframe\">\n",
       "  <thead>\n",
       "    <tr style=\"text-align: right;\">\n",
       "      <th></th>\n",
       "      <th>name</th>\n",
       "      <th>address</th>\n",
       "    </tr>\n",
       "  </thead>\n",
       "  <tbody>\n",
       "    <tr>\n",
       "      <th>0</th>\n",
       "      <td>False</td>\n",
       "      <td>False</td>\n",
       "    </tr>\n",
       "    <tr>\n",
       "      <th>1</th>\n",
       "      <td>False</td>\n",
       "      <td>False</td>\n",
       "    </tr>\n",
       "    <tr>\n",
       "      <th>2</th>\n",
       "      <td>False</td>\n",
       "      <td>False</td>\n",
       "    </tr>\n",
       "  </tbody>\n",
       "</table>\n",
       "</div>"
      ],
      "text/plain": [
       "    name  address\n",
       "0  False    False\n",
       "1  False    False\n",
       "2  False    False"
      ]
     },
     "execution_count": 34,
     "metadata": {},
     "output_type": "execute_result"
    }
   ],
   "source": [
    "cnx = mysql.connector.connect(user = \"root\", password = \"AlumnaAdalab\", host =\"127.0.0.1\", database = \"python_test\")\n",
    "\n",
    "query = \"SELECT * FROM customers\"\n",
    "\n",
    "df2 = pd.read_sql_query(query,cnx)\n",
    "\n",
    "\n",
    "df2.isnull()"
   ]
  },
  {
   "cell_type": "markdown",
   "metadata": {},
   "source": [
    "#### Otros metodos de panda\n",
    "\n",
    "- Métodos para exploración básica del *DataFrame*: \n",
    "\n",
    "    - `.head()`\n",
    "    - `.tail()`\n",
    "    - `.sample()`\n",
    "    - `.describe()`\n",
    "    - `.duplicated()`\n",
    "    - `.isnull()`\n",
    "    - `.isna()`\n",
    "    - `.info()`\n",
    "    - `.columns`"
   ]
  }
 ],
 "metadata": {
  "kernelspec": {
   "display_name": "Python 3",
   "language": "python",
   "name": "python3"
  },
  "language_info": {
   "codemirror_mode": {
    "name": "ipython",
    "version": 3
   },
   "file_extension": ".py",
   "mimetype": "text/x-python",
   "name": "python",
   "nbconvert_exporter": "python",
   "pygments_lexer": "ipython3",
   "version": "3.11.8"
  }
 },
 "nbformat": 4,
 "nbformat_minor": 2
}
