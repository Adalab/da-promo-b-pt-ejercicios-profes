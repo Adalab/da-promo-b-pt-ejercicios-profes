{
 "cells": [
  {
   "cell_type": "code",
   "execution_count": null,
   "metadata": {},
   "outputs": [],
   "source": [
    "# !pip install selenium\n",
    "# !pip install webdriver-manager"
   ]
  },
  {
   "cell_type": "code",
   "execution_count": 1,
   "metadata": {},
   "outputs": [],
   "source": [
    "# Importar librerías para tratamiento de datos\n",
    "# -----------------------------------------------------------------------\n",
    "import pandas as pd  # Pandas es una poderosa librería para manipulación y análisis de datos en Python.\n",
    "\n",
    "# Importar librerías para web scraping y manipulación de datos\n",
    "# -----------------------------------------------------------------------\n",
    "from bs4 import BeautifulSoup\n",
    "import requests\n",
    "\n",
    "# Importar librerías para automatización de navegadores web con Selenium\n",
    "# -----------------------------------------------------------------------\n",
    "from selenium import webdriver  # Selenium es una herramienta para automatizar la interacción con navegadores web.\n",
    "from webdriver_manager.chrome import ChromeDriverManager  # ChromeDriverManager gestiona la instalación del controlador de Chrome.\n",
    "from selenium.webdriver.common.keys import Keys  # Keys es útil para simular eventos de teclado en Selenium.\n",
    "from selenium.webdriver.support.ui import Select  # Select se utiliza para interactuar con elementos <select> en páginas web.\n",
    "\n",
    "# Importar librerías para pausar la ejecución\n",
    "# -----------------------------------------------------------------------\n",
    "from time import sleep  # Sleep se utiliza para pausar la ejecución del programa por un número de segundos.\n",
    "\n",
    "# Configuraciones\n",
    "# -----------------------------------------------------------------------\n",
    "pd.set_option('display.max_columns', None)"
   ]
  },
  {
   "cell_type": "code",
   "execution_count": 19,
   "metadata": {},
   "outputs": [
    {
     "name": "stdout",
     "output_type": "stream",
     "text": [
      "accediendo a la web\n",
      "hemos accedido correctamente a la web\n",
      "aceptando cookies\n",
      "cookies aceptadas\n"
     ]
    }
   ],
   "source": [
    "driver = webdriver.Chrome()\n",
    "\n",
    "print(\"accediendo a la web\")\n",
    "driver.get(\"https://adalab.es/\")\n",
    "print(\"hemos accedido correctamente a la web\")\n",
    "\n",
    "sleep(3)\n",
    "print(\"aceptando cookies\")\n",
    "driver.find_element(\"css selector\", \"#wt-cli-accept-all-btn\").click()\n",
    "print(\"cookies aceptadas\")\n",
    "\n",
    "driver.close()\n"
   ]
  },
  {
   "cell_type": "code",
   "execution_count": 24,
   "metadata": {},
   "outputs": [
    {
     "name": "stdout",
     "output_type": "stream",
     "text": [
      "accediendo a Dia\n",
      "cookies aceptadas\n",
      "entrando en carniceria\n"
     ]
    }
   ],
   "source": [
    "driver = webdriver.Chrome()\n",
    "\n",
    "url = \"https://www.dia.es/\"\n",
    "\n",
    "driver.get(url)\n",
    "print(\"accediendo a Dia\")\n",
    "driver.maximize_window()\n",
    "\n",
    "sleep(1) #segundos de espera\n",
    "driver.find_element(\"css selector\", \"#onetrust-accept-btn-handler\").click()\n",
    "print(\"cookies aceptadas\")\n",
    "\n",
    "driver.find_element(\"css selector\", \"#app > div > div > div > div.home-view__header > div.dia-header > div.dia-header__section.dia-header__section--middle > div > div > input\").send_keys(\"carniceria\", Keys.ENTER)\n",
    "print(\"entrando en carniceria\")\n",
    "\n",
    "driver.close()"
   ]
  },
  {
   "cell_type": "code",
   "execution_count": 44,
   "metadata": {},
   "outputs": [
    {
     "name": "stdout",
     "output_type": "stream",
     "text": [
      "accediendo a Dia\n",
      "cookies aceptadas\n",
      "click en productos\n",
      "estamos en productos\n",
      "entramos en carniceria\n"
     ]
    }
   ],
   "source": [
    "driver = webdriver.Chrome()\n",
    "\n",
    "url = \"https://www.dia.es/\"\n",
    "\n",
    "driver.get(url)\n",
    "print(\"accediendo a Dia\")\n",
    "driver.maximize_window()\n",
    "\n",
    "sleep(1) #segundos de espera\n",
    "driver.find_element(\"css selector\", \"#onetrust-accept-btn-handler\").click()\n",
    "print(\"cookies aceptadas\")\n",
    "\n",
    "sleep(2)\n",
    "print(\"click en productos\")\n",
    "driver.find_element(\"css selector\", \"#app > div > div > div > div.home-view__header > div.dia-header > div.dia-header__section.dia-header__section--start > div > button\").click()\n",
    "print(\"estamos en productos\")\n",
    "\n",
    "sleep(3)                     \n",
    "print(\"entramos en carniceria\")                 \n",
    "driver.find_element(\"css selector\", \"#app > div > div > div.categories-layout__content > div.categories-layout__left-content > ul > li:nth-child(2) > a > div > div > span\").click()\n",
    "                                     #app > div > div > div.categories-layout__content > div.categories-layout__left-content > ul > li:nth-child(2) > a > div > div > span\n",
    "# sleep(2)\n",
    "# driver.find_element(\"css selector\", \"#app > div > div > div.categories-layout__content > div.categories-layout__right-content > div.plp-view > div:nth-child(3) > div > div > ul > li:nth-child(1) > div > div.search-product-card__top-section > div.search-product-card__top-section-content > a.search-product-card__product-link > p\").click()\n",
    "diccionario = {\"nombres\":[], \"precio\":[]}\n",
    "for child in range(1,4):\n",
    "    sleep(2)\n",
    "    driver.find_element(\"css selector\", f\"#app > div > div > div.categories-layout__content > div.categories-layout__right-content > div.plp-view > div:nth-child(3) > div > div > ul > li:nth-child({child}) > div > div.search-product-card__top-section > div.search-product-card__top-section-content > a.search-product-card__product-link > p\").click()\n",
    "    diccionario[\"nombres\"].append(driver.find_element(\"css selector\", \"#app > div > div > div > div.pdp-view__content > div.pdp-view__right-content > div > h1\").text)\n",
    "    driver.back()"
   ]
  },
  {
   "cell_type": "code",
   "execution_count": 45,
   "metadata": {},
   "outputs": [
    {
     "data": {
      "text/plain": [
       "{'nombres': ['Filetes de pechuga de pollo Selección de Dia bandeja 450 g aprox.',\n",
       "  'Jamoncitos de pollo familiar Selección de Dia bandeja 800 g aprox.',\n",
       "  'Longaniza de pollo Selección de Dia bandeja 400 g']}"
      ]
     },
     "execution_count": 45,
     "metadata": {},
     "output_type": "execute_result"
    }
   ],
   "source": [
    "diccionario"
   ]
  },
  {
   "cell_type": "code",
   "execution_count": 40,
   "metadata": {},
   "outputs": [
    {
     "name": "stdout",
     "output_type": "stream",
     "text": [
      "#app > div > div > div.categories-layout__content > div.categories-layout__right-content > div.plp-view > div:nth-child(3) > div > div > ul > li:nth-child(1) > div > div.search-product-card__top-section > div.search-product-card__top-section-content > a.search-product-card__product-link > p\n",
      "------------------------------\n",
      "#app > div > div > div.categories-layout__content > div.categories-layout__right-content > div.plp-view > div:nth-child(3) > div > div > ul > li:nth-child(2) > div > div.search-product-card__top-section > div.search-product-card__top-section-content > a.search-product-card__product-link > p\n",
      "------------------------------\n",
      "#app > div > div > div.categories-layout__content > div.categories-layout__right-content > div.plp-view > div:nth-child(3) > div > div > ul > li:nth-child(3) > div > div.search-product-card__top-section > div.search-product-card__top-section-content > a.search-product-card__product-link > p\n",
      "------------------------------\n"
     ]
    }
   ],
   "source": [
    "for child in range(1,4):\n",
    "    print(f\"#app > div > div > div.categories-layout__content > div.categories-layout__right-content > div.plp-view > div:nth-child(3) > div > div > ul > li:nth-child({child}) > div > div.search-product-card__top-section > div.search-product-card__top-section-content > a.search-product-card__product-link > p\")\n",
    "    print(\"------------------------------\")"
   ]
  }
 ],
 "metadata": {
  "kernelspec": {
   "display_name": "Python 3",
   "language": "python",
   "name": "python3"
  },
  "language_info": {
   "codemirror_mode": {
    "name": "ipython",
    "version": 3
   },
   "file_extension": ".py",
   "mimetype": "text/x-python",
   "name": "python",
   "nbconvert_exporter": "python",
   "pygments_lexer": "ipython3",
   "version": "3.10.11"
  }
 },
 "nbformat": 4,
 "nbformat_minor": 2
}
